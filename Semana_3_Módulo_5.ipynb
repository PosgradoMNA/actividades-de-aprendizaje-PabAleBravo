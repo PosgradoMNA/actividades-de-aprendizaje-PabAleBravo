{
  "nbformat": 4,
  "nbformat_minor": 0,
  "metadata": {
    "colab": {
      "provenance": [],
      "authorship_tag": "ABX9TyNNKJZTladRkHERuoPuF4fG",
      "include_colab_link": true
    },
    "kernelspec": {
      "name": "python3",
      "display_name": "Python 3"
    },
    "language_info": {
      "name": "python"
    }
  },
  "cells": [
    {
      "cell_type": "markdown",
      "metadata": {
        "id": "view-in-github",
        "colab_type": "text"
      },
      "source": [
        "<a href=\"https://colab.research.google.com/github/PosgradoMNA/actividades-de-aprendizaje-PabAleBravo/blob/main/Semana_3_M%C3%B3dulo_5.ipynb\" target=\"_parent\"><img src=\"https://colab.research.google.com/assets/colab-badge.svg\" alt=\"Open In Colab\"/></a>"
      ]
    },
    {
      "cell_type": "markdown",
      "source": [
        "Matrices numpy 1D\n"
      ],
      "metadata": {
        "id": "VpPAKs1Aav0T"
      }
    },
    {
      "cell_type": "code",
      "execution_count": 57,
      "metadata": {
        "id": "GIl05NeAafm_"
      },
      "outputs": [],
      "source": [
        "import pandas as pd\n",
        "import numpy as np"
      ]
    },
    {
      "cell_type": "code",
      "source": [
        "#Ejercicio 1\n",
        "np.array([1,-1])*np.array([1,1])"
      ],
      "metadata": {
        "colab": {
          "base_uri": "https://localhost:8080/"
        },
        "id": "sj_ChcO9ajTt",
        "outputId": "abe6341b-07ab-4e93-bd69-fd39de55dae3"
      },
      "execution_count": 2,
      "outputs": [
        {
          "output_type": "execute_result",
          "data": {
            "text/plain": [
              "array([ 1, -1])"
            ]
          },
          "metadata": {},
          "execution_count": 2
        }
      ]
    },
    {
      "cell_type": "code",
      "source": [
        "#Ejercicio 2\n",
        "np.dot(np.array([1,-1]),np.array([1,1]))"
      ],
      "metadata": {
        "colab": {
          "base_uri": "https://localhost:8080/"
        },
        "id": "FJ9Fm4M0anil",
        "outputId": "e1cda8c2-ddd7-4f65-a074-31a52f860b47"
      },
      "execution_count": 3,
      "outputs": [
        {
          "output_type": "execute_result",
          "data": {
            "text/plain": [
              "0"
            ]
          },
          "metadata": {},
          "execution_count": 3
        }
      ]
    },
    {
      "cell_type": "code",
      "source": [
        "a=[1,2,3,4,5]\n"
      ],
      "metadata": {
        "id": "GImMaUw1bFZ0"
      },
      "execution_count": 4,
      "outputs": []
    },
    {
      "cell_type": "code",
      "source": [
        "#Covertir en array\n",
        "x = np.array(a)\n",
        "x"
      ],
      "metadata": {
        "colab": {
          "base_uri": "https://localhost:8080/"
        },
        "id": "_xrQ47UmbITl",
        "outputId": "55709ca8-1824-42ac-97df-d29709a958ab"
      },
      "execution_count": 6,
      "outputs": [
        {
          "output_type": "execute_result",
          "data": {
            "text/plain": [
              "array([1, 2, 3, 4, 5])"
            ]
          },
          "metadata": {},
          "execution_count": 6
        }
      ]
    },
    {
      "cell_type": "code",
      "source": [
        "#Calcular la media\n",
        "x.mean()"
      ],
      "metadata": {
        "colab": {
          "base_uri": "https://localhost:8080/"
        },
        "id": "IDq4W_E1bPk4",
        "outputId": "cff3786f-c64c-4751-d162-b2ad4744b56e"
      },
      "execution_count": 11,
      "outputs": [
        {
          "output_type": "execute_result",
          "data": {
            "text/plain": [
              "3.0"
            ]
          },
          "metadata": {},
          "execution_count": 11
        }
      ]
    },
    {
      "cell_type": "code",
      "source": [
        "#Para poder graficar un plano\n",
        "import time \n",
        "import sys\n",
        "import numpy as np \n",
        "\n",
        "import matplotlib.pyplot as plt\n",
        "%matplotlib inline  \n",
        "\n",
        "def Plotvec1(u, z, v):\n",
        "    \n",
        "    ax = plt.axes() # to generate the full window axes\n",
        "    ax.arrow(0, 0, *u, head_width=0.05, color='r', head_length=0.1)# Add an arrow to the  U Axes with arrow head width 0.05, color red and arrow head length 0.1\n",
        "    plt.text(*(u + 0.1), 'u')#Adds the text u to the Axes \n",
        "    \n",
        "    ax.arrow(0, 0, *v, head_width=0.05, color='b', head_length=0.1)# Add an arrow to the  v Axes with arrow head width 0.05, color red and arrow head length 0.1\n",
        "    plt.text(*(v + 0.1), 'v')#Adds the text v to the Axes \n",
        "    \n",
        "    ax.arrow(0, 0, *z, head_width=0.05, head_length=0.1)\n",
        "    plt.text(*(z + 0.1), 'z')#Adds the text z to the Axes \n",
        "    plt.ylim(-2, 2)#set the ylim to bottom(-2), top(2)\n",
        "    plt.xlim(-2, 2)#set the xlim to left(-2), right(2)"
      ],
      "metadata": {
        "id": "vH0KLzh4bo_y"
      },
      "execution_count": 12,
      "outputs": []
    },
    {
      "cell_type": "code",
      "source": [
        "#Generamos los valores de las variables y graficamos\n",
        "u = np.array([1, 0])\n",
        "v = np.array([0, 1])\n",
        "z = np.add(u, v)\n",
        "\n",
        "Plotvec1(u, z, v)"
      ],
      "metadata": {
        "colab": {
          "base_uri": "https://localhost:8080/",
          "height": 269
        },
        "id": "OQvCgBbzbtLj",
        "outputId": "75e38ee1-d884-442d-a711-7f9722548a6c"
      },
      "execution_count": 14,
      "outputs": [
        {
          "output_type": "display_data",
          "data": {
            "text/plain": [
              "<Figure size 432x288 with 1 Axes>"
            ],
            "image/png": "[encoded data removed]"
          },
          "metadata": {
            "needs_background": "light"
          }
        }
      ]
    },
    {
      "cell_type": "code",
      "source": [
        "A = np.array([[1,2],[3,4],[5,6],[7,8]])"
      ],
      "metadata": {
        "id": "-BJI9o6icOmx"
      },
      "execution_count": 15,
      "outputs": []
    },
    {
      "cell_type": "markdown",
      "source": [
        "Quiz on 2D Numpy Array"
      ],
      "metadata": {
        "id": "HiMyZGwjcojc"
      }
    },
    {
      "cell_type": "code",
      "source": [
        "a = [[1, 2, 3, 4], [5, 6, 7, 8], [9, 10, 11, 12]]"
      ],
      "metadata": {
        "id": "_4346Co9cTDC"
      },
      "execution_count": 17,
      "outputs": []
    },
    {
      "cell_type": "code",
      "source": [
        "#Convertirlo Array\n",
        "A = np.array(a)\n",
        "A"
      ],
      "metadata": {
        "colab": {
          "base_uri": "https://localhost:8080/"
        },
        "id": "o_NuqWI_cuGO",
        "outputId": "c57424c4-e51a-4fc7-e692-6ae6579ff90b"
      },
      "execution_count": 18,
      "outputs": [
        {
          "output_type": "execute_result",
          "data": {
            "text/plain": [
              "array([[ 1,  2,  3,  4],\n",
              "       [ 5,  6,  7,  8],\n",
              "       [ 9, 10, 11, 12]])"
            ]
          },
          "metadata": {},
          "execution_count": 18
        }
      ]
    },
    {
      "cell_type": "code",
      "source": [
        "#Calcular el tamaño del array\n",
        "A.size"
      ],
      "metadata": {
        "colab": {
          "base_uri": "https://localhost:8080/"
        },
        "id": "nLU7SyX5czU5",
        "outputId": "b5ea2116-8c4b-4e76-ff2a-d884e004560d"
      },
      "execution_count": 19,
      "outputs": [
        {
          "output_type": "execute_result",
          "data": {
            "text/plain": [
              "12"
            ]
          },
          "metadata": {},
          "execution_count": 19
        }
      ]
    },
    {
      "cell_type": "code",
      "source": [
        "#Obtener los primeros dos números de la primera fila\n",
        "A[0][0:2]"
      ],
      "metadata": {
        "colab": {
          "base_uri": "https://localhost:8080/"
        },
        "id": "pygziqGqc4wz",
        "outputId": "3fd91ace-acd7-4eef-fa02-c1158f713637"
      },
      "execution_count": 20,
      "outputs": [
        {
          "output_type": "execute_result",
          "data": {
            "text/plain": [
              "array([1, 2])"
            ]
          },
          "metadata": {},
          "execution_count": 20
        }
      ]
    },
    {
      "cell_type": "code",
      "source": [
        "B = np.array([[0, 1], [1, 0], [1, 1], [-1, 0]])"
      ],
      "metadata": {
        "id": "gCwFtJdOdGNv"
      },
      "execution_count": 22,
      "outputs": []
    },
    {
      "cell_type": "code",
      "source": [
        "#Multimplicación entre los dos Array A y B\n",
        "X = np.dot(A,B)\n",
        "X"
      ],
      "metadata": {
        "colab": {
          "base_uri": "https://localhost:8080/"
        },
        "id": "yQTetHvSdCF0",
        "outputId": "c99db28b-d1a2-432c-98a3-6cc69c294497"
      },
      "execution_count": 23,
      "outputs": [
        {
          "output_type": "execute_result",
          "data": {
            "text/plain": [
              "array([[ 1,  4],\n",
              "       [ 5, 12],\n",
              "       [ 9, 20]])"
            ]
          },
          "metadata": {},
          "execution_count": 23
        }
      ]
    },
    {
      "cell_type": "markdown",
      "source": [
        "Requests in Python"
      ],
      "metadata": {
        "id": "zMBRNNmNeA6g"
      }
    },
    {
      "cell_type": "code",
      "source": [
        "import requests\n",
        "import os \n",
        "from PIL import Image\n",
        "from IPython.display import IFrame"
      ],
      "metadata": {
        "id": "Z83AOf8zeAc6"
      },
      "execution_count": 26,
      "outputs": []
    },
    {
      "cell_type": "code",
      "source": [
        "url='https://www.ibm.com/'\n",
        "r=requests.get(url)"
      ],
      "metadata": {
        "id": "fR6EioLJeF3l"
      },
      "execution_count": 27,
      "outputs": []
    },
    {
      "cell_type": "code",
      "source": [
        "r.status_code"
      ],
      "metadata": {
        "colab": {
          "base_uri": "https://localhost:8080/"
        },
        "id": "BNLXGSzveOFc",
        "outputId": "09062236-9b00-4577-aac6-a5e915949b4d"
      },
      "execution_count": 28,
      "outputs": [
        {
          "output_type": "execute_result",
          "data": {
            "text/plain": [
              "200"
            ]
          },
          "metadata": {},
          "execution_count": 28
        }
      ]
    },
    {
      "cell_type": "code",
      "source": [
        "print(r.request.headers)"
      ],
      "metadata": {
        "colab": {
          "base_uri": "https://localhost:8080/"
        },
        "id": "XWkiBHzneQH8",
        "outputId": "02e1867a-da38-4dad-c751-e61b5da13b32"
      },
      "execution_count": 29,
      "outputs": [
        {
          "output_type": "stream",
          "name": "stdout",
          "text": [
            "{'User-Agent': 'python-requests/2.23.0', 'Accept-Encoding': 'gzip, deflate', 'Accept': '*/*', 'Connection': 'keep-alive', 'Cookie': '_abck=9E3B1C077139F44336B0F342998948FA~-1~YAAQhmzTF1RdG4KDAQAAeLZ4pQjhqqrED+kVulN07XMLC4OpIFQghE0X8YVIj1aEfiN50nD8jb5O7v9GqM+jGMKcsDRBHK3JiGHMl/QZP6UA+c6HNoEHkvDwS+rOLsxBfSp/+zIvDmv7BBRaLiFRydOyqKEoEmhZG+Lj60uejmy3dkJI1NKWzBMu6JjWq8yfQjh4lOcABY/R8228RMrpyp63KHXx09TLV2SXLfCW2Jf09/xGDmfoABngLgp95zv4rKJ0hPoDWNM7qf4VT+YNgid1URAzL6yqZY0kg4sCR5IPuOFZapHSRaX27atg1h1pwsr+mhlrjlDCMVtKsu5yDc5jz/QwjHuRxQ1rPCQngt2xCsSWuHI=~-1~-1~-1; bm_sz=A3900F0527B01D6568B1840FF9A7BF5F~YAAQhmzTF1ZdG4KDAQAAeLZ4pREBY2O4b3lk+FVMzqTLQGDjhziGdvRwr3dyY/OPpXIucEIhoFCA9OdmCzARCfi3hsnZRJnzbDAwhkuAWBMuwHY41raoa69yT+TVFDQr78PrSzICk+S6lKf5+TLErDBgvlhE8tvF6pdSB/XQiZ4ClgWnHBHFr7IA5bk4/5bXNG+C/5hgaURK2THOdE5taibdDw8lnYc26efnZMvvZIZ+ERDVYdZLa4OkZm96PBYXpKRCDBoqjKEx2XcrB4S0aCExYEiTJBI58dKj+nHdfoM=~4536119~3687478'}\n"
          ]
        }
      ]
    },
    {
      "cell_type": "code",
      "source": [
        "print(\"request body:\", r.request.body)"
      ],
      "metadata": {
        "colab": {
          "base_uri": "https://localhost:8080/"
        },
        "id": "ZzF6U8ZSeYRV",
        "outputId": "952f75db-dbc6-46a3-a15b-ae43f92bb321"
      },
      "execution_count": 30,
      "outputs": [
        {
          "output_type": "stream",
          "name": "stdout",
          "text": [
            "request body: None\n"
          ]
        }
      ]
    },
    {
      "cell_type": "code",
      "source": [
        "#Obtener el diccionario\n",
        "header=r.headers\n",
        "print(r.headers)"
      ],
      "metadata": {
        "colab": {
          "base_uri": "https://localhost:8080/"
        },
        "id": "zojgH65Leam7",
        "outputId": "f368e048-cc63-4a46-81db-2a664d41d674"
      },
      "execution_count": 31,
      "outputs": [
        {
          "output_type": "stream",
          "name": "stdout",
          "text": [
            "{'Server': 'Apache', 'Last-Modified': 'Mon, 03 Oct 2022 12:34:16 GMT', 'ETag': '\"17fce-5ea208fcd503e-gzip\"', 'Accept-Ranges': 'bytes', 'Content-Encoding': 'gzip', 'Content-Type': 'text/html', 'Cache-Control': 'max-age=3600', 'Expires': 'Wed, 05 Oct 2022 01:08:15 GMT', 'X-Akamai-Transformed': '9 21227 0 pmb=mTOE,2', 'Date': 'Wed, 05 Oct 2022 00:08:15 GMT', 'Content-Length': '21405', 'Connection': 'keep-alive', 'Vary': 'Accept-Encoding', 'x-content-type-options': 'nosniff', 'X-XSS-Protection': '1; mode=block', 'Content-Security-Policy': 'upgrade-insecure-requests', 'Strict-Transport-Security': 'max-age=31536000'}\n"
          ]
        }
      ]
    },
    {
      "cell_type": "code",
      "source": [
        "#Obtener la fecha\n",
        "header['date']"
      ],
      "metadata": {
        "colab": {
          "base_uri": "https://localhost:8080/",
          "height": 35
        },
        "id": "_m2G9CnXecw9",
        "outputId": "94033c41-6cd0-4879-9dcd-46b15b048f9e"
      },
      "execution_count": 32,
      "outputs": [
        {
          "output_type": "execute_result",
          "data": {
            "text/plain": [
              "'Wed, 05 Oct 2022 00:08:15 GMT'"
            ],
            "application/vnd.google.colaboratory.intrinsic+json": {
              "type": "string"
            }
          },
          "metadata": {},
          "execution_count": 32
        }
      ]
    },
    {
      "cell_type": "code",
      "source": [
        "#Identificar el tipo de la data\n",
        "header['Content-Type']"
      ],
      "metadata": {
        "colab": {
          "base_uri": "https://localhost:8080/",
          "height": 35
        },
        "id": "_rOd6k5temw3",
        "outputId": "52b1ddfe-8024-4eb0-e14b-a6de6a8d3870"
      },
      "execution_count": 34,
      "outputs": [
        {
          "output_type": "execute_result",
          "data": {
            "text/plain": [
              "'text/html'"
            ],
            "application/vnd.google.colaboratory.intrinsic+json": {
              "type": "string"
            }
          },
          "metadata": {},
          "execution_count": 34
        }
      ]
    },
    {
      "cell_type": "markdown",
      "source": [
        "Simple APIs"
      ],
      "metadata": {
        "id": "lpUC2ehjfDzx"
      }
    },
    {
      "cell_type": "code",
      "source": [
        "!pip install randomuser"
      ],
      "metadata": {
        "colab": {
          "base_uri": "https://localhost:8080/"
        },
        "id": "NR0YwFN6e9rf",
        "outputId": "c343c583-1d8f-4d05-9518-f6d346fb716f"
      },
      "execution_count": 35,
      "outputs": [
        {
          "output_type": "stream",
          "name": "stdout",
          "text": [
            "Looking in indexes: https://pypi.org/simple, https://us-python.pkg.dev/colab-wheels/public/simple/\n",
            "Collecting randomuser\n",
            "  Downloading randomuser-1.6.tar.gz (5.0 kB)\n",
            "Building wheels for collected packages: randomuser\n",
            "  Building wheel for randomuser (setup.py) ... \u001b[?25l\u001b[?25hdone\n",
            "  Created wheel for randomuser: filename=randomuser-1.6-py3-none-any.whl size=5084 sha256=31fce10153a13f3a4d2f6f27a0e86c64215abd0758544b6535ecf6914140c326\n",
            "  Stored in directory: /root/.cache/pip/wheels/21/10/7b/c13bc3e24a3c1000a34554802ad8aa0ff27df56366998a0473\n",
            "Successfully built randomuser\n",
            "Installing collected packages: randomuser\n",
            "Successfully installed randomuser-1.6\n"
          ]
        }
      ]
    },
    {
      "cell_type": "code",
      "source": [
        "from randomuser import RandomUser\n",
        "import pandas as pd"
      ],
      "metadata": {
        "id": "7MZf5QfAfCmX"
      },
      "execution_count": 36,
      "outputs": []
    },
    {
      "cell_type": "code",
      "source": [
        "r = RandomUser()"
      ],
      "metadata": {
        "id": "Shl-YMX0fKao"
      },
      "execution_count": 37,
      "outputs": []
    },
    {
      "cell_type": "code",
      "source": [
        "some_list = r.generate_users(10)\n",
        "some_list"
      ],
      "metadata": {
        "colab": {
          "base_uri": "https://localhost:8080/"
        },
        "id": "qJNeS6z0fPga",
        "outputId": "2e010a1f-5697-46bd-8238-7c18e02cf6af"
      },
      "execution_count": 38,
      "outputs": [
        {
          "output_type": "execute_result",
          "data": {
            "text/plain": [
              "[<randomuser.RandomUser at 0x7f75d3c96910>,\n",
              " <randomuser.RandomUser at 0x7f75d3c96950>,\n",
              " <randomuser.RandomUser at 0x7f75d3c96990>,\n",
              " <randomuser.RandomUser at 0x7f75d3c969d0>,\n",
              " <randomuser.RandomUser at 0x7f75d3c96a10>,\n",
              " <randomuser.RandomUser at 0x7f75d3c96a90>,\n",
              " <randomuser.RandomUser at 0x7f75d3c96ad0>,\n",
              " <randomuser.RandomUser at 0x7f75d3c96b10>,\n",
              " <randomuser.RandomUser at 0x7f75d3c96b50>,\n",
              " <randomuser.RandomUser at 0x7f75d3c96a50>]"
            ]
          },
          "metadata": {},
          "execution_count": 38
        }
      ]
    },
    {
      "cell_type": "code",
      "source": [
        "name = r.get_full_name()"
      ],
      "metadata": {
        "id": "Sufn0FVRfUHf"
      },
      "execution_count": 39,
      "outputs": []
    },
    {
      "cell_type": "code",
      "source": [
        "for user in some_list:\n",
        "    print (user.get_full_name(),\" \",user.get_email())"
      ],
      "metadata": {
        "colab": {
          "base_uri": "https://localhost:8080/"
        },
        "id": "0rDw4qDTfWKg",
        "outputId": "6b0d9e38-63d4-47b5-dd4d-3e9057b43a7c"
      },
      "execution_count": 40,
      "outputs": [
        {
          "output_type": "stream",
          "name": "stdout",
          "text": [
            "Leo Ahonen   leo.ahonen@example.com\n",
            "Dale Ross   dale.ross@example.com\n",
            "Santiago Ortiz   santiago.ortiz@example.com\n",
            "August Rognerud   august.rognerud@example.com\n",
            "Neil Franklin   neil.franklin@example.com\n",
            "آوین یاسمی   awyn.ysmy@example.com\n",
            "Joseph Howard   joseph.howard@example.com\n",
            "Carmério Nogueira   carmerio.nogueira@example.com\n",
            "Vebjørn Sollid   vebjorn.sollid@example.com\n",
            "William Dumont   william.dumont@example.com\n"
          ]
        }
      ]
    },
    {
      "cell_type": "markdown",
      "source": [
        "Ejercico 1"
      ],
      "metadata": {
        "id": "qce7AMAxfd6U"
      }
    },
    {
      "cell_type": "code",
      "source": [
        "for user in some_list:\n",
        "    print (user.get_picture())"
      ],
      "metadata": {
        "colab": {
          "base_uri": "https://localhost:8080/"
        },
        "id": "a-hAjYZzffIk",
        "outputId": "68475c80-00a0-4ba5-e82f-4d29c246ccd0"
      },
      "execution_count": 41,
      "outputs": [
        {
          "output_type": "stream",
          "name": "stdout",
          "text": [
            "https://randomuser.me/api/portraits/men/34.jpg\n",
            "https://randomuser.me/api/portraits/men/37.jpg\n",
            "https://randomuser.me/api/portraits/men/27.jpg\n",
            "https://randomuser.me/api/portraits/men/27.jpg\n",
            "https://randomuser.me/api/portraits/men/50.jpg\n",
            "https://randomuser.me/api/portraits/women/95.jpg\n",
            "https://randomuser.me/api/portraits/men/30.jpg\n",
            "https://randomuser.me/api/portraits/men/51.jpg\n",
            "https://randomuser.me/api/portraits/men/95.jpg\n",
            "https://randomuser.me/api/portraits/men/37.jpg\n"
          ]
        }
      ]
    },
    {
      "cell_type": "code",
      "source": [
        "#Describir los datos\n",
        "def get_users():\n",
        "    users =[]\n",
        "     \n",
        "    for user in RandomUser.generate_users(10):\n",
        "        users.append({\"Name\":user.get_full_name(),\"Gender\":user.get_gender(),\"City\":user.get_city(),\"State\":user.get_state(),\"Email\":user.get_email(), \"DOB\":user.get_dob(),\"Picture\":user.get_picture()})\n",
        "      \n",
        "    return pd.DataFrame(users)     "
      ],
      "metadata": {
        "id": "8BBHDL_Xfiz4"
      },
      "execution_count": 42,
      "outputs": []
    },
    {
      "cell_type": "code",
      "source": [
        "get_users()"
      ],
      "metadata": {
        "colab": {
          "base_uri": "https://localhost:8080/",
          "height": 363
        },
        "id": "qfwOp7I3fl2e",
        "outputId": "e2811d60-b3d8-4766-fffe-829c7d0e3381"
      },
      "execution_count": 43,
      "outputs": [
        {
          "output_type": "execute_result",
          "data": {
            "text/plain": [
              "               Name  Gender        City                      State  \\\n",
              "0  Vanessa Lawrence  female       Akron                 New Mexico   \n",
              "1   Clésio Caldeira    male      Sumaré                      Goiás   \n",
              "2  Samantha Frazier  female     Sallins                   Limerick   \n",
              "3    Monica Stewart  female   San Diego                   Michigan   \n",
              "4    Clara Anderson  female  Shelbourne  Newfoundland and Labrador   \n",
              "5       Jesse Lammi    male        Geta                Päijät-Häme   \n",
              "6      Alice Peters  female  Canterbury             Gwynedd County   \n",
              "7       Afet Sözeri  female    Osmaniye                   Osmaniye   \n",
              "8         Oda Knoll  female  Biesenthal         Schleswig-Holstein   \n",
              "9     Aurora Fleury  female  Gottlieben                     Schwyz   \n",
              "\n",
              "                          Email                       DOB  \\\n",
              "0  vanessa.lawrence@example.com  1952-12-19T20:53:52.861Z   \n",
              "1   clesio.caldeira@example.com  1991-06-11T17:10:37.233Z   \n",
              "2  samantha.frazier@example.com  1970-02-28T04:25:10.131Z   \n",
              "3    monica.stewart@example.com  1965-12-27T01:45:46.310Z   \n",
              "4    clara.anderson@example.com  1971-07-11T14:10:31.219Z   \n",
              "5       jesse.lammi@example.com  1980-03-30T08:01:04.388Z   \n",
              "6      alice.peters@example.com  1957-08-06T10:25:39.188Z   \n",
              "7       afet.sozeri@example.com  1944-10-04T00:49:32.209Z   \n",
              "8         oda.knoll@example.com  1987-12-21T19:42:25.971Z   \n",
              "9     aurora.fleury@example.com  1947-04-05T11:17:33.060Z   \n",
              "\n",
              "                                            Picture  \n",
              "0  https://randomuser.me/api/portraits/women/93.jpg  \n",
              "1    https://randomuser.me/api/portraits/men/68.jpg  \n",
              "2  https://randomuser.me/api/portraits/women/28.jpg  \n",
              "3  https://randomuser.me/api/portraits/women/67.jpg  \n",
              "4  https://randomuser.me/api/portraits/women/75.jpg  \n",
              "5    https://randomuser.me/api/portraits/men/16.jpg  \n",
              "6   https://randomuser.me/api/portraits/women/3.jpg  \n",
              "7  https://randomuser.me/api/portraits/women/25.jpg  \n",
              "8  https://randomuser.me/api/portraits/women/40.jpg  \n",
              "9  https://randomuser.me/api/portraits/women/78.jpg  "
            ],
            "text/html": [
              "\n",
              "  <div id=\"df-af21c11a-6320-4754-a834-47b21fdaa0a5\">\n",
              "    <div class=\"colab-df-container\">\n",
              "      <div>\n",
              "<style scoped>\n",
              "    .dataframe tbody tr th:only-of-type {\n",
              "        vertical-align: middle;\n",
              "    }\n",
              "\n",
              "    .dataframe tbody tr th {\n",
              "        vertical-align: top;\n",
              "    }\n",
              "\n",
              "    .dataframe thead th {\n",
              "        text-align: right;\n",
              "    }\n",
              "</style>\n",
              "<table border=\"1\" class=\"dataframe\">\n",
              "  <thead>\n",
              "    <tr style=\"text-align: right;\">\n",
              "      <th></th>\n",
              "      <th>Name</th>\n",
              "      <th>Gender</th>\n",
              "      <th>City</th>\n",
              "      <th>State</th>\n",
              "      <th>Email</th>\n",
              "      <th>DOB</th>\n",
              "      <th>Picture</th>\n",
              "    </tr>\n",
              "  </thead>\n",
              "  <tbody>\n",
              "    <tr>\n",
              "      <th>0</th>\n",
              "      <td>Vanessa Lawrence</td>\n",
              "      <td>female</td>\n",
              "      <td>Akron</td>\n",
              "      <td>New Mexico</td>\n",
              "      <td>vanessa.lawrence@example.com</td>\n",
              "      <td>1952-12-19T20:53:52.861Z</td>\n",
              "      <td>https://randomuser.me/api/portraits/women/93.jpg</td>\n",
              "    </tr>\n",
              "    <tr>\n",
              "      <th>1</th>\n",
              "      <td>Clésio Caldeira</td>\n",
              "      <td>male</td>\n",
              "      <td>Sumaré</td>\n",
              "      <td>Goiás</td>\n",
              "      <td>clesio.caldeira@example.com</td>\n",
              "      <td>1991-06-11T17:10:37.233Z</td>\n",
              "      <td>https://randomuser.me/api/portraits/men/68.jpg</td>\n",
              "    </tr>\n",
              "    <tr>\n",
              "      <th>2</th>\n",
              "      <td>Samantha Frazier</td>\n",
              "      <td>female</td>\n",
              "      <td>Sallins</td>\n",
              "      <td>Limerick</td>\n",
              "      <td>samantha.frazier@example.com</td>\n",
              "      <td>1970-02-28T04:25:10.131Z</td>\n",
              "      <td>https://randomuser.me/api/portraits/women/28.jpg</td>\n",
              "    </tr>\n",
              "    <tr>\n",
              "      <th>3</th>\n",
              "      <td>Monica Stewart</td>\n",
              "      <td>female</td>\n",
              "      <td>San Diego</td>\n",
              "      <td>Michigan</td>\n",
              "      <td>monica.stewart@example.com</td>\n",
              "      <td>1965-12-27T01:45:46.310Z</td>\n",
              "      <td>https://randomuser.me/api/portraits/women/67.jpg</td>\n",
              "    </tr>\n",
              "    <tr>\n",
              "      <th>4</th>\n",
              "      <td>Clara Anderson</td>\n",
              "      <td>female</td>\n",
              "      <td>Shelbourne</td>\n",
              "      <td>Newfoundland and Labrador</td>\n",
              "      <td>clara.anderson@example.com</td>\n",
              "      <td>1971-07-11T14:10:31.219Z</td>\n",
              "      <td>https://randomuser.me/api/portraits/women/75.jpg</td>\n",
              "    </tr>\n",
              "    <tr>\n",
              "      <th>5</th>\n",
              "      <td>Jesse Lammi</td>\n",
              "      <td>male</td>\n",
              "      <td>Geta</td>\n",
              "      <td>Päijät-Häme</td>\n",
              "      <td>jesse.lammi@example.com</td>\n",
              "      <td>1980-03-30T08:01:04.388Z</td>\n",
              "      <td>https://randomuser.me/api/portraits/men/16.jpg</td>\n",
              "    </tr>\n",
              "    <tr>\n",
              "      <th>6</th>\n",
              "      <td>Alice Peters</td>\n",
              "      <td>female</td>\n",
              "      <td>Canterbury</td>\n",
              "      <td>Gwynedd County</td>\n",
              "      <td>alice.peters@example.com</td>\n",
              "      <td>1957-08-06T10:25:39.188Z</td>\n",
              "      <td>https://randomuser.me/api/portraits/women/3.jpg</td>\n",
              "    </tr>\n",
              "    <tr>\n",
              "      <th>7</th>\n",
              "      <td>Afet Sözeri</td>\n",
              "      <td>female</td>\n",
              "      <td>Osmaniye</td>\n",
              "      <td>Osmaniye</td>\n",
              "      <td>afet.sozeri@example.com</td>\n",
              "      <td>1944-10-04T00:49:32.209Z</td>\n",
              "      <td>https://randomuser.me/api/portraits/women/25.jpg</td>\n",
              "    </tr>\n",
              "    <tr>\n",
              "      <th>8</th>\n",
              "      <td>Oda Knoll</td>\n",
              "      <td>female</td>\n",
              "      <td>Biesenthal</td>\n",
              "      <td>Schleswig-Holstein</td>\n",
              "      <td>oda.knoll@example.com</td>\n",
              "      <td>1987-12-21T19:42:25.971Z</td>\n",
              "      <td>https://randomuser.me/api/portraits/women/40.jpg</td>\n",
              "    </tr>\n",
              "    <tr>\n",
              "      <th>9</th>\n",
              "      <td>Aurora Fleury</td>\n",
              "      <td>female</td>\n",
              "      <td>Gottlieben</td>\n",
              "      <td>Schwyz</td>\n",
              "      <td>aurora.fleury@example.com</td>\n",
              "      <td>1947-04-05T11:17:33.060Z</td>\n",
              "      <td>https://randomuser.me/api/portraits/women/78.jpg</td>\n",
              "    </tr>\n",
              "  </tbody>\n",
              "</table>\n",
              "</div>\n",
              "      <button class=\"colab-df-convert\" onclick=\"convertToInteractive('df-af21c11a-6320-4754-a834-47b21fdaa0a5')\"\n",
              "              title=\"Convert this dataframe to an interactive table.\"\n",
              "              style=\"display:none;\">\n",
              "        \n",
              "  <svg xmlns=\"http://www.w3.org/2000/svg\" height=\"24px\"viewBox=\"0 0 24 24\"\n",
              "       width=\"24px\">\n",
              "    <path d=\"M0 0h24v24H0V0z\" fill=\"none\"/>\n",
              "    <path d=\"M18.56 5.44l.94 2.06.94-2.06 2.06-.94-2.06-.94-.94-2.06-.94 2.06-2.06.94zm-11 1L8.5 8.5l.94-2.06 2.06-.94-2.06-.94L8.5 2.5l-.94 2.06-2.06.94zm10 10l.94 2.06.94-2.06 2.06-.94-2.06-.94-.94-2.06-.94 2.06-2.06.94z\"/><path d=\"M17.41 7.96l-1.37-1.37c-.4-.4-.92-.59-1.43-.59-.52 0-1.04.2-1.43.59L10.3 9.45l-7.72 7.72c-.78.78-.78 2.05 0 2.83L4 21.41c.39.39.9.59 1.41.59.51 0 1.02-.2 1.41-.59l7.78-7.78 2.81-2.81c.8-.78.8-2.07 0-2.86zM5.41 20L4 18.59l7.72-7.72 1.47 1.35L5.41 20z\"/>\n",
              "  </svg>\n",
              "      </button>\n",
              "      \n",
              "  <style>\n",
              "    .colab-df-container {\n",
              "      display:flex;\n",
              "      flex-wrap:wrap;\n",
              "      gap: 12px;\n",
              "    }\n",
              "\n",
              "    .colab-df-convert {\n",
              "      background-color: #E8F0FE;\n",
              "      border: none;\n",
              "      border-radius: 50%;\n",
              "      cursor: pointer;\n",
              "      display: none;\n",
              "      fill: #1967D2;\n",
              "      height: 32px;\n",
              "      padding: 0 0 0 0;\n",
              "      width: 32px;\n",
              "    }\n",
              "\n",
              "    .colab-df-convert:hover {\n",
              "      background-color: #E2EBFA;\n",
              "      box-shadow: 0px 1px 2px rgba(60, 64, 67, 0.3), 0px 1px 3px 1px rgba(60, 64, 67, 0.15);\n",
              "      fill: #174EA6;\n",
              "    }\n",
              "\n",
              "    [theme=dark] .colab-df-convert {\n",
              "      background-color: #3B4455;\n",
              "      fill: #D2E3FC;\n",
              "    }\n",
              "\n",
              "    [theme=dark] .colab-df-convert:hover {\n",
              "      background-color: #434B5C;\n",
              "      box-shadow: 0px 1px 3px 1px rgba(0, 0, 0, 0.15);\n",
              "      filter: drop-shadow(0px 1px 2px rgba(0, 0, 0, 0.3));\n",
              "      fill: #FFFFFF;\n",
              "    }\n",
              "  </style>\n",
              "\n",
              "      <script>\n",
              "        const buttonEl =\n",
              "          document.querySelector('#df-af21c11a-6320-4754-a834-47b21fdaa0a5 button.colab-df-convert');\n",
              "        buttonEl.style.display =\n",
              "          google.colab.kernel.accessAllowed ? 'block' : 'none';\n",
              "\n",
              "        async function convertToInteractive(key) {\n",
              "          const element = document.querySelector('#df-af21c11a-6320-4754-a834-47b21fdaa0a5');\n",
              "          const dataTable =\n",
              "            await google.colab.kernel.invokeFunction('convertToInteractive',\n",
              "                                                     [key], {});\n",
              "          if (!dataTable) return;\n",
              "\n",
              "          const docLinkHtml = 'Like what you see? Visit the ' +\n",
              "            '<a target=\"_blank\" href=https://colab.research.google.com/notebooks/data_table.ipynb>data table notebook</a>'\n",
              "            + ' to learn more about interactive tables.';\n",
              "          element.innerHTML = '';\n",
              "          dataTable['output_type'] = 'display_data';\n",
              "          await google.colab.output.renderOutput(dataTable, element);\n",
              "          const docLink = document.createElement('div');\n",
              "          docLink.innerHTML = docLinkHtml;\n",
              "          element.appendChild(docLink);\n",
              "        }\n",
              "      </script>\n",
              "    </div>\n",
              "  </div>\n",
              "  "
            ]
          },
          "metadata": {},
          "execution_count": 43
        }
      ]
    },
    {
      "cell_type": "code",
      "source": [
        "df1 = pd.DataFrame(get_users())  \n",
        "df1"
      ],
      "metadata": {
        "colab": {
          "base_uri": "https://localhost:8080/",
          "height": 363
        },
        "id": "XZKdyIpmfwt0",
        "outputId": "c1c68e6c-9a6f-44cb-ee53-7da6d7357ed9"
      },
      "execution_count": 45,
      "outputs": [
        {
          "output_type": "execute_result",
          "data": {
            "text/plain": [
              "                  Name  Gender              City             State  \\\n",
              "0       Silke Sørensen  female            Billum       Hovedstaden   \n",
              "1       Emma Mortensen  female  Sønder Stenderup           Danmark   \n",
              "2         Cathy Wagner  female            Pueblo          Missouri   \n",
              "3          Emma Bowman  female           Ratoath             Cavan   \n",
              "4          Ashley Soto  female            Duleek         Westmeath   \n",
              "5           Lia Pierre  female          Besançon             Drôme   \n",
              "6           Pedro Ford    male         Liverpool     County Antrim   \n",
              "7          Samu Hakola    male         Jyväskylä  Southern Savonia   \n",
              "8  Cassandra Deschamps  female  Clermont-Ferrand             Drôme   \n",
              "9           Randy Long    male         Red Bluff           Wyoming   \n",
              "\n",
              "                             Email                       DOB  \\\n",
              "0       silke.sorensen@example.com  1989-02-17T19:43:55.893Z   \n",
              "1       emma.mortensen@example.com  1953-11-25T01:16:28.401Z   \n",
              "2         cathy.wagner@example.com  1961-08-26T18:39:21.771Z   \n",
              "3          emma.bowman@example.com  1981-12-24T20:48:46.603Z   \n",
              "4          ashley.soto@example.com  1963-01-29T07:42:14.017Z   \n",
              "5           lia.pierre@example.com  1954-05-28T05:07:03.198Z   \n",
              "6           pedro.ford@example.com  1972-10-05T23:39:06.997Z   \n",
              "7          samu.hakola@example.com  1974-09-29T03:54:27.656Z   \n",
              "8  cassandra.deschamps@example.com  1976-09-30T22:43:51.693Z   \n",
              "9           randy.long@example.com  1998-04-03T17:03:07.459Z   \n",
              "\n",
              "                                            Picture  \n",
              "0  https://randomuser.me/api/portraits/women/53.jpg  \n",
              "1  https://randomuser.me/api/portraits/women/40.jpg  \n",
              "2  https://randomuser.me/api/portraits/women/44.jpg  \n",
              "3  https://randomuser.me/api/portraits/women/42.jpg  \n",
              "4   https://randomuser.me/api/portraits/women/7.jpg  \n",
              "5  https://randomuser.me/api/portraits/women/51.jpg  \n",
              "6    https://randomuser.me/api/portraits/men/18.jpg  \n",
              "7    https://randomuser.me/api/portraits/men/93.jpg  \n",
              "8  https://randomuser.me/api/portraits/women/39.jpg  \n",
              "9    https://randomuser.me/api/portraits/men/91.jpg  "
            ],
            "text/html": [
              "\n",
              "  <div id=\"df-0e5231eb-dada-4b69-ae5f-daa80fe1dd9d\">\n",
              "    <div class=\"colab-df-container\">\n",
              "      <div>\n",
              "<style scoped>\n",
              "    .dataframe tbody tr th:only-of-type {\n",
              "        vertical-align: middle;\n",
              "    }\n",
              "\n",
              "    .dataframe tbody tr th {\n",
              "        vertical-align: top;\n",
              "    }\n",
              "\n",
              "    .dataframe thead th {\n",
              "        text-align: right;\n",
              "    }\n",
              "</style>\n",
              "<table border=\"1\" class=\"dataframe\">\n",
              "  <thead>\n",
              "    <tr style=\"text-align: right;\">\n",
              "      <th></th>\n",
              "      <th>Name</th>\n",
              "      <th>Gender</th>\n",
              "      <th>City</th>\n",
              "      <th>State</th>\n",
              "      <th>Email</th>\n",
              "      <th>DOB</th>\n",
              "      <th>Picture</th>\n",
              "    </tr>\n",
              "  </thead>\n",
              "  <tbody>\n",
              "    <tr>\n",
              "      <th>0</th>\n",
              "      <td>Silke Sørensen</td>\n",
              "      <td>female</td>\n",
              "      <td>Billum</td>\n",
              "      <td>Hovedstaden</td>\n",
              "      <td>silke.sorensen@example.com</td>\n",
              "      <td>1989-02-17T19:43:55.893Z</td>\n",
              "      <td>https://randomuser.me/api/portraits/women/53.jpg</td>\n",
              "    </tr>\n",
              "    <tr>\n",
              "      <th>1</th>\n",
              "      <td>Emma Mortensen</td>\n",
              "      <td>female</td>\n",
              "      <td>Sønder Stenderup</td>\n",
              "      <td>Danmark</td>\n",
              "      <td>emma.mortensen@example.com</td>\n",
              "      <td>1953-11-25T01:16:28.401Z</td>\n",
              "      <td>https://randomuser.me/api/portraits/women/40.jpg</td>\n",
              "    </tr>\n",
              "    <tr>\n",
              "      <th>2</th>\n",
              "      <td>Cathy Wagner</td>\n",
              "      <td>female</td>\n",
              "      <td>Pueblo</td>\n",
              "      <td>Missouri</td>\n",
              "      <td>cathy.wagner@example.com</td>\n",
              "      <td>1961-08-26T18:39:21.771Z</td>\n",
              "      <td>https://randomuser.me/api/portraits/women/44.jpg</td>\n",
              "    </tr>\n",
              "    <tr>\n",
              "      <th>3</th>\n",
              "      <td>Emma Bowman</td>\n",
              "      <td>female</td>\n",
              "      <td>Ratoath</td>\n",
              "      <td>Cavan</td>\n",
              "      <td>emma.bowman@example.com</td>\n",
              "      <td>1981-12-24T20:48:46.603Z</td>\n",
              "      <td>https://randomuser.me/api/portraits/women/42.jpg</td>\n",
              "    </tr>\n",
              "    <tr>\n",
              "      <th>4</th>\n",
              "      <td>Ashley Soto</td>\n",
              "      <td>female</td>\n",
              "      <td>Duleek</td>\n",
              "      <td>Westmeath</td>\n",
              "      <td>ashley.soto@example.com</td>\n",
              "      <td>1963-01-29T07:42:14.017Z</td>\n",
              "      <td>https://randomuser.me/api/portraits/women/7.jpg</td>\n",
              "    </tr>\n",
              "    <tr>\n",
              "      <th>5</th>\n",
              "      <td>Lia Pierre</td>\n",
              "      <td>female</td>\n",
              "      <td>Besançon</td>\n",
              "      <td>Drôme</td>\n",
              "      <td>lia.pierre@example.com</td>\n",
              "      <td>1954-05-28T05:07:03.198Z</td>\n",
              "      <td>https://randomuser.me/api/portraits/women/51.jpg</td>\n",
              "    </tr>\n",
              "    <tr>\n",
              "      <th>6</th>\n",
              "      <td>Pedro Ford</td>\n",
              "      <td>male</td>\n",
              "      <td>Liverpool</td>\n",
              "      <td>County Antrim</td>\n",
              "      <td>pedro.ford@example.com</td>\n",
              "      <td>1972-10-05T23:39:06.997Z</td>\n",
              "      <td>https://randomuser.me/api/portraits/men/18.jpg</td>\n",
              "    </tr>\n",
              "    <tr>\n",
              "      <th>7</th>\n",
              "      <td>Samu Hakola</td>\n",
              "      <td>male</td>\n",
              "      <td>Jyväskylä</td>\n",
              "      <td>Southern Savonia</td>\n",
              "      <td>samu.hakola@example.com</td>\n",
              "      <td>1974-09-29T03:54:27.656Z</td>\n",
              "      <td>https://randomuser.me/api/portraits/men/93.jpg</td>\n",
              "    </tr>\n",
              "    <tr>\n",
              "      <th>8</th>\n",
              "      <td>Cassandra Deschamps</td>\n",
              "      <td>female</td>\n",
              "      <td>Clermont-Ferrand</td>\n",
              "      <td>Drôme</td>\n",
              "      <td>cassandra.deschamps@example.com</td>\n",
              "      <td>1976-09-30T22:43:51.693Z</td>\n",
              "      <td>https://randomuser.me/api/portraits/women/39.jpg</td>\n",
              "    </tr>\n",
              "    <tr>\n",
              "      <th>9</th>\n",
              "      <td>Randy Long</td>\n",
              "      <td>male</td>\n",
              "      <td>Red Bluff</td>\n",
              "      <td>Wyoming</td>\n",
              "      <td>randy.long@example.com</td>\n",
              "      <td>1998-04-03T17:03:07.459Z</td>\n",
              "      <td>https://randomuser.me/api/portraits/men/91.jpg</td>\n",
              "    </tr>\n",
              "  </tbody>\n",
              "</table>\n",
              "</div>\n",
              "      <button class=\"colab-df-convert\" onclick=\"convertToInteractive('df-0e5231eb-dada-4b69-ae5f-daa80fe1dd9d')\"\n",
              "              title=\"Convert this dataframe to an interactive table.\"\n",
              "              style=\"display:none;\">\n",
              "        \n",
              "  <svg xmlns=\"http://www.w3.org/2000/svg\" height=\"24px\"viewBox=\"0 0 24 24\"\n",
              "       width=\"24px\">\n",
              "    <path d=\"M0 0h24v24H0V0z\" fill=\"none\"/>\n",
              "    <path d=\"M18.56 5.44l.94 2.06.94-2.06 2.06-.94-2.06-.94-.94-2.06-.94 2.06-2.06.94zm-11 1L8.5 8.5l.94-2.06 2.06-.94-2.06-.94L8.5 2.5l-.94 2.06-2.06.94zm10 10l.94 2.06.94-2.06 2.06-.94-2.06-.94-.94-2.06-.94 2.06-2.06.94z\"/><path d=\"M17.41 7.96l-1.37-1.37c-.4-.4-.92-.59-1.43-.59-.52 0-1.04.2-1.43.59L10.3 9.45l-7.72 7.72c-.78.78-.78 2.05 0 2.83L4 21.41c.39.39.9.59 1.41.59.51 0 1.02-.2 1.41-.59l7.78-7.78 2.81-2.81c.8-.78.8-2.07 0-2.86zM5.41 20L4 18.59l7.72-7.72 1.47 1.35L5.41 20z\"/>\n",
              "  </svg>\n",
              "      </button>\n",
              "      \n",
              "  <style>\n",
              "    .colab-df-container {\n",
              "      display:flex;\n",
              "      flex-wrap:wrap;\n",
              "      gap: 12px;\n",
              "    }\n",
              "\n",
              "    .colab-df-convert {\n",
              "      background-color: #E8F0FE;\n",
              "      border: none;\n",
              "      border-radius: 50%;\n",
              "      cursor: pointer;\n",
              "      display: none;\n",
              "      fill: #1967D2;\n",
              "      height: 32px;\n",
              "      padding: 0 0 0 0;\n",
              "      width: 32px;\n",
              "    }\n",
              "\n",
              "    .colab-df-convert:hover {\n",
              "      background-color: #E2EBFA;\n",
              "      box-shadow: 0px 1px 2px rgba(60, 64, 67, 0.3), 0px 1px 3px 1px rgba(60, 64, 67, 0.15);\n",
              "      fill: #174EA6;\n",
              "    }\n",
              "\n",
              "    [theme=dark] .colab-df-convert {\n",
              "      background-color: #3B4455;\n",
              "      fill: #D2E3FC;\n",
              "    }\n",
              "\n",
              "    [theme=dark] .colab-df-convert:hover {\n",
              "      background-color: #434B5C;\n",
              "      box-shadow: 0px 1px 3px 1px rgba(0, 0, 0, 0.15);\n",
              "      filter: drop-shadow(0px 1px 2px rgba(0, 0, 0, 0.3));\n",
              "      fill: #FFFFFF;\n",
              "    }\n",
              "  </style>\n",
              "\n",
              "      <script>\n",
              "        const buttonEl =\n",
              "          document.querySelector('#df-0e5231eb-dada-4b69-ae5f-daa80fe1dd9d button.colab-df-convert');\n",
              "        buttonEl.style.display =\n",
              "          google.colab.kernel.accessAllowed ? 'block' : 'none';\n",
              "\n",
              "        async function convertToInteractive(key) {\n",
              "          const element = document.querySelector('#df-0e5231eb-dada-4b69-ae5f-daa80fe1dd9d');\n",
              "          const dataTable =\n",
              "            await google.colab.kernel.invokeFunction('convertToInteractive',\n",
              "                                                     [key], {});\n",
              "          if (!dataTable) return;\n",
              "\n",
              "          const docLinkHtml = 'Like what you see? Visit the ' +\n",
              "            '<a target=\"_blank\" href=https://colab.research.google.com/notebooks/data_table.ipynb>data table notebook</a>'\n",
              "            + ' to learn more about interactive tables.';\n",
              "          element.innerHTML = '';\n",
              "          dataTable['output_type'] = 'display_data';\n",
              "          await google.colab.output.renderOutput(dataTable, element);\n",
              "          const docLink = document.createElement('div');\n",
              "          docLink.innerHTML = docLinkHtml;\n",
              "          element.appendChild(docLink);\n",
              "        }\n",
              "      </script>\n",
              "    </div>\n",
              "  </div>\n",
              "  "
            ]
          },
          "metadata": {},
          "execution_count": 45
        }
      ]
    },
    {
      "cell_type": "markdown",
      "source": [
        "Ejercicio 2"
      ],
      "metadata": {
        "id": "u2V9_B2nf8lz"
      }
    },
    {
      "cell_type": "code",
      "source": [
        "import requests\n",
        "import json"
      ],
      "metadata": {
        "id": "Oughyutwf6c9"
      },
      "execution_count": 46,
      "outputs": []
    },
    {
      "cell_type": "code",
      "source": [
        "data = requests.get(\"https://www.fruityvice.com/api/fruit/all\")"
      ],
      "metadata": {
        "id": "zoOuQ5hZf-88"
      },
      "execution_count": 47,
      "outputs": []
    },
    {
      "cell_type": "code",
      "source": [
        "results = json.loads(data.text)"
      ],
      "metadata": {
        "id": "sza5_QcjgFGQ"
      },
      "execution_count": 48,
      "outputs": []
    },
    {
      "cell_type": "code",
      "source": [
        "pd.DataFrame(results)"
      ],
      "metadata": {
        "colab": {
          "base_uri": "https://localhost:8080/",
          "height": 1000
        },
        "id": "_O2kdl7sgHS5",
        "outputId": "76c15798-fd23-46fe-ca67-6af0fad9baa1"
      },
      "execution_count": 49,
      "outputs": [
        {
          "output_type": "execute_result",
          "data": {
            "text/plain": [
              "         genus          name  id           family             order  \\\n",
              "0        Malus         Apple   6         Rosaceae           Rosales   \n",
              "1       Prunus       Apricot  35         Rosaceae           Rosales   \n",
              "2         Musa        Banana   1         Musaceae      Zingiberales   \n",
              "3        Rubus    Blackberry  64         Rosaceae           Rosales   \n",
              "4     Fragaria     Blueberry  33         Rosaceae           Rosales   \n",
              "5       Prunus        Cherry   9         Rosaceae              None   \n",
              "6        Durio        Durian  60        Malvaceae          Malvales   \n",
              "7        Ficus           Fig  68         Moraceae           Rosales   \n",
              "8        Ribes    Gooseberry  69  Grossulariaceae      Saxifragales   \n",
              "9        Vitis        Grapes  47         Vitaceae           Vitales   \n",
              "10       Malus    GreenApple  72         Rosaceae           Rosales   \n",
              "11     Psidium         Guava  37        Myrtaceae          Myrtales   \n",
              "12     Apteryx          Kiwi  66    Actinidiaceae  Struthioniformes   \n",
              "13      Citrus         Lemon  26         Rutaceae        Sapindales   \n",
              "14      Citrus          Lime  44         Rutaceae        Sapindales   \n",
              "15   Vaccinium   Lingonberry  65        Ericaceae          Ericales   \n",
              "16      Litchi        Lychee  67      Sapindaceae        Sapindales   \n",
              "17   Mangifera         Mango  27    Anacardiaceae        Sapindales   \n",
              "18     Cucumis         Melon  41    Cucurbitaceae     Cucurbitaceae   \n",
              "19      Citrus        Orange   2         Rutaceae        Sapindales   \n",
              "20      Carica        Papaya  42       Caricaceae         Caricacea   \n",
              "21  Passiflora  Passionfruit  70   Passifloraceae      Malpighiales   \n",
              "22       Pyrus          Pear   4         Rosaceae           Rosales   \n",
              "23   Diospyros     Persimmon  52        Ebenaceae           Rosales   \n",
              "24      Ananas     Pineapple  10     Bromeliaceae            Poales   \n",
              "25      Prunus          Plum  71         Rosaceae           Rosales   \n",
              "26       Rubus     Raspberry  23         Rosaceae           Rosales   \n",
              "27    Fragaria    Strawberry   3         Rosaceae           Rosales   \n",
              "28     Solanum        Tomato   5       Solanaceae         Solanales   \n",
              "29    Spondias          Umbu  73    Anacardiaceae                 0   \n",
              "30   Citrullus    Watermelon  25    Cucurbitaceae      Cucurbitales   \n",
              "\n",
              "                                           nutritions  \n",
              "0   {'carbohydrates': 11.4, 'protein': 0.3, 'fat':...  \n",
              "1   {'carbohydrates': 3.9, 'protein': 0.5, 'fat': ...  \n",
              "2   {'carbohydrates': 22, 'protein': 1, 'fat': 0.2...  \n",
              "3   {'carbohydrates': 9, 'protein': 1.3, 'fat': 0....  \n",
              "4   {'carbohydrates': 5.5, 'protein': 0, 'fat': 0....  \n",
              "5   {'carbohydrates': 12, 'protein': 1, 'fat': 0.3...  \n",
              "6   {'carbohydrates': 27.1, 'protein': 1.5, 'fat':...  \n",
              "7   {'carbohydrates': 19, 'protein': 0.8, 'fat': 0...  \n",
              "8   {'carbohydrates': 10, 'protein': 0.9, 'fat': 0...  \n",
              "9   {'carbohydrates': 18.1, 'protein': 0.72, 'fat'...  \n",
              "10  {'carbohydrates': 3.1, 'protein': 0.4, 'fat': ...  \n",
              "11  {'carbohydrates': 14, 'protein': 2.6, 'fat': 1...  \n",
              "12  {'carbohydrates': 15, 'protein': 1.1, 'fat': 0...  \n",
              "13  {'carbohydrates': 9, 'protein': 1.1, 'fat': 0....  \n",
              "14  {'carbohydrates': 8.4, 'protein': 0.3, 'fat': ...  \n",
              "15  {'carbohydrates': 11.3, 'protein': 0.75, 'fat'...  \n",
              "16  {'carbohydrates': 17, 'protein': 0.8, 'fat': 0...  \n",
              "17  {'carbohydrates': 15, 'protein': 0.82, 'fat': ...  \n",
              "18  {'carbohydrates': 8, 'protein': 0, 'fat': 0, '...  \n",
              "19  {'carbohydrates': 8.3, 'protein': 1, 'fat': 0....  \n",
              "20  {'carbohydrates': 11, 'protein': 0, 'fat': 0.4...  \n",
              "21  {'carbohydrates': 22.4, 'protein': 2.2, 'fat':...  \n",
              "22  {'carbohydrates': 15, 'protein': 0.4, 'fat': 0...  \n",
              "23  {'carbohydrates': 18, 'protein': 0, 'fat': 0, ...  \n",
              "24  {'carbohydrates': 13.12, 'protein': 0.54, 'fat...  \n",
              "25  {'carbohydrates': 11.4, 'protein': 0.7, 'fat':...  \n",
              "26  {'carbohydrates': 12, 'protein': 1.2, 'fat': 0...  \n",
              "27  {'carbohydrates': 5.5, 'protein': 0.8, 'fat': ...  \n",
              "28  {'carbohydrates': 3.9, 'protein': 0.9, 'fat': ...  \n",
              "29  {'carbohydrates': 0, 'protein': 0, 'fat': 0, '...  \n",
              "30  {'carbohydrates': 8, 'protein': 0.6, 'fat': 0....  "
            ],
            "text/html": [
              "\n",
              "  <div id=\"df-6e58c69e-5176-4eb4-add2-926535b14b2e\">\n",
              "    <div class=\"colab-df-container\">\n",
              "      <div>\n",
              "<style scoped>\n",
              "    .dataframe tbody tr th:only-of-type {\n",
              "        vertical-align: middle;\n",
              "    }\n",
              "\n",
              "    .dataframe tbody tr th {\n",
              "        vertical-align: top;\n",
              "    }\n",
              "\n",
              "    .dataframe thead th {\n",
              "        text-align: right;\n",
              "    }\n",
              "</style>\n",
              "<table border=\"1\" class=\"dataframe\">\n",
              "  <thead>\n",
              "    <tr style=\"text-align: right;\">\n",
              "      <th></th>\n",
              "      <th>genus</th>\n",
              "      <th>name</th>\n",
              "      <th>id</th>\n",
              "      <th>family</th>\n",
              "      <th>order</th>\n",
              "      <th>nutritions</th>\n",
              "    </tr>\n",
              "  </thead>\n",
              "  <tbody>\n",
              "    <tr>\n",
              "      <th>0</th>\n",
              "      <td>Malus</td>\n",
              "      <td>Apple</td>\n",
              "      <td>6</td>\n",
              "      <td>Rosaceae</td>\n",
              "      <td>Rosales</td>\n",
              "      <td>{'carbohydrates': 11.4, 'protein': 0.3, 'fat':...</td>\n",
              "    </tr>\n",
              "    <tr>\n",
              "      <th>1</th>\n",
              "      <td>Prunus</td>\n",
              "      <td>Apricot</td>\n",
              "      <td>35</td>\n",
              "      <td>Rosaceae</td>\n",
              "      <td>Rosales</td>\n",
              "      <td>{'carbohydrates': 3.9, 'protein': 0.5, 'fat': ...</td>\n",
              "    </tr>\n",
              "    <tr>\n",
              "      <th>2</th>\n",
              "      <td>Musa</td>\n",
              "      <td>Banana</td>\n",
              "      <td>1</td>\n",
              "      <td>Musaceae</td>\n",
              "      <td>Zingiberales</td>\n",
              "      <td>{'carbohydrates': 22, 'protein': 1, 'fat': 0.2...</td>\n",
              "    </tr>\n",
              "    <tr>\n",
              "      <th>3</th>\n",
              "      <td>Rubus</td>\n",
              "      <td>Blackberry</td>\n",
              "      <td>64</td>\n",
              "      <td>Rosaceae</td>\n",
              "      <td>Rosales</td>\n",
              "      <td>{'carbohydrates': 9, 'protein': 1.3, 'fat': 0....</td>\n",
              "    </tr>\n",
              "    <tr>\n",
              "      <th>4</th>\n",
              "      <td>Fragaria</td>\n",
              "      <td>Blueberry</td>\n",
              "      <td>33</td>\n",
              "      <td>Rosaceae</td>\n",
              "      <td>Rosales</td>\n",
              "      <td>{'carbohydrates': 5.5, 'protein': 0, 'fat': 0....</td>\n",
              "    </tr>\n",
              "    <tr>\n",
              "      <th>5</th>\n",
              "      <td>Prunus</td>\n",
              "      <td>Cherry</td>\n",
              "      <td>9</td>\n",
              "      <td>Rosaceae</td>\n",
              "      <td>None</td>\n",
              "      <td>{'carbohydrates': 12, 'protein': 1, 'fat': 0.3...</td>\n",
              "    </tr>\n",
              "    <tr>\n",
              "      <th>6</th>\n",
              "      <td>Durio</td>\n",
              "      <td>Durian</td>\n",
              "      <td>60</td>\n",
              "      <td>Malvaceae</td>\n",
              "      <td>Malvales</td>\n",
              "      <td>{'carbohydrates': 27.1, 'protein': 1.5, 'fat':...</td>\n",
              "    </tr>\n",
              "    <tr>\n",
              "      <th>7</th>\n",
              "      <td>Ficus</td>\n",
              "      <td>Fig</td>\n",
              "      <td>68</td>\n",
              "      <td>Moraceae</td>\n",
              "      <td>Rosales</td>\n",
              "      <td>{'carbohydrates': 19, 'protein': 0.8, 'fat': 0...</td>\n",
              "    </tr>\n",
              "    <tr>\n",
              "      <th>8</th>\n",
              "      <td>Ribes</td>\n",
              "      <td>Gooseberry</td>\n",
              "      <td>69</td>\n",
              "      <td>Grossulariaceae</td>\n",
              "      <td>Saxifragales</td>\n",
              "      <td>{'carbohydrates': 10, 'protein': 0.9, 'fat': 0...</td>\n",
              "    </tr>\n",
              "    <tr>\n",
              "      <th>9</th>\n",
              "      <td>Vitis</td>\n",
              "      <td>Grapes</td>\n",
              "      <td>47</td>\n",
              "      <td>Vitaceae</td>\n",
              "      <td>Vitales</td>\n",
              "      <td>{'carbohydrates': 18.1, 'protein': 0.72, 'fat'...</td>\n",
              "    </tr>\n",
              "    <tr>\n",
              "      <th>10</th>\n",
              "      <td>Malus</td>\n",
              "      <td>GreenApple</td>\n",
              "      <td>72</td>\n",
              "      <td>Rosaceae</td>\n",
              "      <td>Rosales</td>\n",
              "      <td>{'carbohydrates': 3.1, 'protein': 0.4, 'fat': ...</td>\n",
              "    </tr>\n",
              "    <tr>\n",
              "      <th>11</th>\n",
              "      <td>Psidium</td>\n",
              "      <td>Guava</td>\n",
              "      <td>37</td>\n",
              "      <td>Myrtaceae</td>\n",
              "      <td>Myrtales</td>\n",
              "      <td>{'carbohydrates': 14, 'protein': 2.6, 'fat': 1...</td>\n",
              "    </tr>\n",
              "    <tr>\n",
              "      <th>12</th>\n",
              "      <td>Apteryx</td>\n",
              "      <td>Kiwi</td>\n",
              "      <td>66</td>\n",
              "      <td>Actinidiaceae</td>\n",
              "      <td>Struthioniformes</td>\n",
              "      <td>{'carbohydrates': 15, 'protein': 1.1, 'fat': 0...</td>\n",
              "    </tr>\n",
              "    <tr>\n",
              "      <th>13</th>\n",
              "      <td>Citrus</td>\n",
              "      <td>Lemon</td>\n",
              "      <td>26</td>\n",
              "      <td>Rutaceae</td>\n",
              "      <td>Sapindales</td>\n",
              "      <td>{'carbohydrates': 9, 'protein': 1.1, 'fat': 0....</td>\n",
              "    </tr>\n",
              "    <tr>\n",
              "      <th>14</th>\n",
              "      <td>Citrus</td>\n",
              "      <td>Lime</td>\n",
              "      <td>44</td>\n",
              "      <td>Rutaceae</td>\n",
              "      <td>Sapindales</td>\n",
              "      <td>{'carbohydrates': 8.4, 'protein': 0.3, 'fat': ...</td>\n",
              "    </tr>\n",
              "    <tr>\n",
              "      <th>15</th>\n",
              "      <td>Vaccinium</td>\n",
              "      <td>Lingonberry</td>\n",
              "      <td>65</td>\n",
              "      <td>Ericaceae</td>\n",
              "      <td>Ericales</td>\n",
              "      <td>{'carbohydrates': 11.3, 'protein': 0.75, 'fat'...</td>\n",
              "    </tr>\n",
              "    <tr>\n",
              "      <th>16</th>\n",
              "      <td>Litchi</td>\n",
              "      <td>Lychee</td>\n",
              "      <td>67</td>\n",
              "      <td>Sapindaceae</td>\n",
              "      <td>Sapindales</td>\n",
              "      <td>{'carbohydrates': 17, 'protein': 0.8, 'fat': 0...</td>\n",
              "    </tr>\n",
              "    <tr>\n",
              "      <th>17</th>\n",
              "      <td>Mangifera</td>\n",
              "      <td>Mango</td>\n",
              "      <td>27</td>\n",
              "      <td>Anacardiaceae</td>\n",
              "      <td>Sapindales</td>\n",
              "      <td>{'carbohydrates': 15, 'protein': 0.82, 'fat': ...</td>\n",
              "    </tr>\n",
              "    <tr>\n",
              "      <th>18</th>\n",
              "      <td>Cucumis</td>\n",
              "      <td>Melon</td>\n",
              "      <td>41</td>\n",
              "      <td>Cucurbitaceae</td>\n",
              "      <td>Cucurbitaceae</td>\n",
              "      <td>{'carbohydrates': 8, 'protein': 0, 'fat': 0, '...</td>\n",
              "    </tr>\n",
              "    <tr>\n",
              "      <th>19</th>\n",
              "      <td>Citrus</td>\n",
              "      <td>Orange</td>\n",
              "      <td>2</td>\n",
              "      <td>Rutaceae</td>\n",
              "      <td>Sapindales</td>\n",
              "      <td>{'carbohydrates': 8.3, 'protein': 1, 'fat': 0....</td>\n",
              "    </tr>\n",
              "    <tr>\n",
              "      <th>20</th>\n",
              "      <td>Carica</td>\n",
              "      <td>Papaya</td>\n",
              "      <td>42</td>\n",
              "      <td>Caricaceae</td>\n",
              "      <td>Caricacea</td>\n",
              "      <td>{'carbohydrates': 11, 'protein': 0, 'fat': 0.4...</td>\n",
              "    </tr>\n",
              "    <tr>\n",
              "      <th>21</th>\n",
              "      <td>Passiflora</td>\n",
              "      <td>Passionfruit</td>\n",
              "      <td>70</td>\n",
              "      <td>Passifloraceae</td>\n",
              "      <td>Malpighiales</td>\n",
              "      <td>{'carbohydrates': 22.4, 'protein': 2.2, 'fat':...</td>\n",
              "    </tr>\n",
              "    <tr>\n",
              "      <th>22</th>\n",
              "      <td>Pyrus</td>\n",
              "      <td>Pear</td>\n",
              "      <td>4</td>\n",
              "      <td>Rosaceae</td>\n",
              "      <td>Rosales</td>\n",
              "      <td>{'carbohydrates': 15, 'protein': 0.4, 'fat': 0...</td>\n",
              "    </tr>\n",
              "    <tr>\n",
              "      <th>23</th>\n",
              "      <td>Diospyros</td>\n",
              "      <td>Persimmon</td>\n",
              "      <td>52</td>\n",
              "      <td>Ebenaceae</td>\n",
              "      <td>Rosales</td>\n",
              "      <td>{'carbohydrates': 18, 'protein': 0, 'fat': 0, ...</td>\n",
              "    </tr>\n",
              "    <tr>\n",
              "      <th>24</th>\n",
              "      <td>Ananas</td>\n",
              "      <td>Pineapple</td>\n",
              "      <td>10</td>\n",
              "      <td>Bromeliaceae</td>\n",
              "      <td>Poales</td>\n",
              "      <td>{'carbohydrates': 13.12, 'protein': 0.54, 'fat...</td>\n",
              "    </tr>\n",
              "    <tr>\n",
              "      <th>25</th>\n",
              "      <td>Prunus</td>\n",
              "      <td>Plum</td>\n",
              "      <td>71</td>\n",
              "      <td>Rosaceae</td>\n",
              "      <td>Rosales</td>\n",
              "      <td>{'carbohydrates': 11.4, 'protein': 0.7, 'fat':...</td>\n",
              "    </tr>\n",
              "    <tr>\n",
              "      <th>26</th>\n",
              "      <td>Rubus</td>\n",
              "      <td>Raspberry</td>\n",
              "      <td>23</td>\n",
              "      <td>Rosaceae</td>\n",
              "      <td>Rosales</td>\n",
              "      <td>{'carbohydrates': 12, 'protein': 1.2, 'fat': 0...</td>\n",
              "    </tr>\n",
              "    <tr>\n",
              "      <th>27</th>\n",
              "      <td>Fragaria</td>\n",
              "      <td>Strawberry</td>\n",
              "      <td>3</td>\n",
              "      <td>Rosaceae</td>\n",
              "      <td>Rosales</td>\n",
              "      <td>{'carbohydrates': 5.5, 'protein': 0.8, 'fat': ...</td>\n",
              "    </tr>\n",
              "    <tr>\n",
              "      <th>28</th>\n",
              "      <td>Solanum</td>\n",
              "      <td>Tomato</td>\n",
              "      <td>5</td>\n",
              "      <td>Solanaceae</td>\n",
              "      <td>Solanales</td>\n",
              "      <td>{'carbohydrates': 3.9, 'protein': 0.9, 'fat': ...</td>\n",
              "    </tr>\n",
              "    <tr>\n",
              "      <th>29</th>\n",
              "      <td>Spondias</td>\n",
              "      <td>Umbu</td>\n",
              "      <td>73</td>\n",
              "      <td>Anacardiaceae</td>\n",
              "      <td>0</td>\n",
              "      <td>{'carbohydrates': 0, 'protein': 0, 'fat': 0, '...</td>\n",
              "    </tr>\n",
              "    <tr>\n",
              "      <th>30</th>\n",
              "      <td>Citrullus</td>\n",
              "      <td>Watermelon</td>\n",
              "      <td>25</td>\n",
              "      <td>Cucurbitaceae</td>\n",
              "      <td>Cucurbitales</td>\n",
              "      <td>{'carbohydrates': 8, 'protein': 0.6, 'fat': 0....</td>\n",
              "    </tr>\n",
              "  </tbody>\n",
              "</table>\n",
              "</div>\n",
              "      <button class=\"colab-df-convert\" onclick=\"convertToInteractive('df-6e58c69e-5176-4eb4-add2-926535b14b2e')\"\n",
              "              title=\"Convert this dataframe to an interactive table.\"\n",
              "              style=\"display:none;\">\n",
              "        \n",
              "  <svg xmlns=\"http://www.w3.org/2000/svg\" height=\"24px\"viewBox=\"0 0 24 24\"\n",
              "       width=\"24px\">\n",
              "    <path d=\"M0 0h24v24H0V0z\" fill=\"none\"/>\n",
              "    <path d=\"M18.56 5.44l.94 2.06.94-2.06 2.06-.94-2.06-.94-.94-2.06-.94 2.06-2.06.94zm-11 1L8.5 8.5l.94-2.06 2.06-.94-2.06-.94L8.5 2.5l-.94 2.06-2.06.94zm10 10l.94 2.06.94-2.06 2.06-.94-2.06-.94-.94-2.06-.94 2.06-2.06.94z\"/><path d=\"M17.41 7.96l-1.37-1.37c-.4-.4-.92-.59-1.43-.59-.52 0-1.04.2-1.43.59L10.3 9.45l-7.72 7.72c-.78.78-.78 2.05 0 2.83L4 21.41c.39.39.9.59 1.41.59.51 0 1.02-.2 1.41-.59l7.78-7.78 2.81-2.81c.8-.78.8-2.07 0-2.86zM5.41 20L4 18.59l7.72-7.72 1.47 1.35L5.41 20z\"/>\n",
              "  </svg>\n",
              "      </button>\n",
              "      \n",
              "  <style>\n",
              "    .colab-df-container {\n",
              "      display:flex;\n",
              "      flex-wrap:wrap;\n",
              "      gap: 12px;\n",
              "    }\n",
              "\n",
              "    .colab-df-convert {\n",
              "      background-color: #E8F0FE;\n",
              "      border: none;\n",
              "      border-radius: 50%;\n",
              "      cursor: pointer;\n",
              "      display: none;\n",
              "      fill: #1967D2;\n",
              "      height: 32px;\n",
              "      padding: 0 0 0 0;\n",
              "      width: 32px;\n",
              "    }\n",
              "\n",
              "    .colab-df-convert:hover {\n",
              "      background-color: #E2EBFA;\n",
              "      box-shadow: 0px 1px 2px rgba(60, 64, 67, 0.3), 0px 1px 3px 1px rgba(60, 64, 67, 0.15);\n",
              "      fill: #174EA6;\n",
              "    }\n",
              "\n",
              "    [theme=dark] .colab-df-convert {\n",
              "      background-color: #3B4455;\n",
              "      fill: #D2E3FC;\n",
              "    }\n",
              "\n",
              "    [theme=dark] .colab-df-convert:hover {\n",
              "      background-color: #434B5C;\n",
              "      box-shadow: 0px 1px 3px 1px rgba(0, 0, 0, 0.15);\n",
              "      filter: drop-shadow(0px 1px 2px rgba(0, 0, 0, 0.3));\n",
              "      fill: #FFFFFF;\n",
              "    }\n",
              "  </style>\n",
              "\n",
              "      <script>\n",
              "        const buttonEl =\n",
              "          document.querySelector('#df-6e58c69e-5176-4eb4-add2-926535b14b2e button.colab-df-convert');\n",
              "        buttonEl.style.display =\n",
              "          google.colab.kernel.accessAllowed ? 'block' : 'none';\n",
              "\n",
              "        async function convertToInteractive(key) {\n",
              "          const element = document.querySelector('#df-6e58c69e-5176-4eb4-add2-926535b14b2e');\n",
              "          const dataTable =\n",
              "            await google.colab.kernel.invokeFunction('convertToInteractive',\n",
              "                                                     [key], {});\n",
              "          if (!dataTable) return;\n",
              "\n",
              "          const docLinkHtml = 'Like what you see? Visit the ' +\n",
              "            '<a target=\"_blank\" href=https://colab.research.google.com/notebooks/data_table.ipynb>data table notebook</a>'\n",
              "            + ' to learn more about interactive tables.';\n",
              "          element.innerHTML = '';\n",
              "          dataTable['output_type'] = 'display_data';\n",
              "          await google.colab.output.renderOutput(dataTable, element);\n",
              "          const docLink = document.createElement('div');\n",
              "          docLink.innerHTML = docLinkHtml;\n",
              "          element.appendChild(docLink);\n",
              "        }\n",
              "      </script>\n",
              "    </div>\n",
              "  </div>\n",
              "  "
            ]
          },
          "metadata": {},
          "execution_count": 49
        }
      ]
    },
    {
      "cell_type": "code",
      "source": [
        "df2 = pd.json_normalize(results)\n",
        "df2"
      ],
      "metadata": {
        "colab": {
          "base_uri": "https://localhost:8080/",
          "height": 1000
        },
        "id": "5YK6JXt8gK1H",
        "outputId": "f30f938b-3a5c-4992-f142-b8d40d5968c2"
      },
      "execution_count": 51,
      "outputs": [
        {
          "output_type": "execute_result",
          "data": {
            "text/plain": [
              "         genus          name  id           family             order  \\\n",
              "0        Malus         Apple   6         Rosaceae           Rosales   \n",
              "1       Prunus       Apricot  35         Rosaceae           Rosales   \n",
              "2         Musa        Banana   1         Musaceae      Zingiberales   \n",
              "3        Rubus    Blackberry  64         Rosaceae           Rosales   \n",
              "4     Fragaria     Blueberry  33         Rosaceae           Rosales   \n",
              "5       Prunus        Cherry   9         Rosaceae              None   \n",
              "6        Durio        Durian  60        Malvaceae          Malvales   \n",
              "7        Ficus           Fig  68         Moraceae           Rosales   \n",
              "8        Ribes    Gooseberry  69  Grossulariaceae      Saxifragales   \n",
              "9        Vitis        Grapes  47         Vitaceae           Vitales   \n",
              "10       Malus    GreenApple  72         Rosaceae           Rosales   \n",
              "11     Psidium         Guava  37        Myrtaceae          Myrtales   \n",
              "12     Apteryx          Kiwi  66    Actinidiaceae  Struthioniformes   \n",
              "13      Citrus         Lemon  26         Rutaceae        Sapindales   \n",
              "14      Citrus          Lime  44         Rutaceae        Sapindales   \n",
              "15   Vaccinium   Lingonberry  65        Ericaceae          Ericales   \n",
              "16      Litchi        Lychee  67      Sapindaceae        Sapindales   \n",
              "17   Mangifera         Mango  27    Anacardiaceae        Sapindales   \n",
              "18     Cucumis         Melon  41    Cucurbitaceae     Cucurbitaceae   \n",
              "19      Citrus        Orange   2         Rutaceae        Sapindales   \n",
              "20      Carica        Papaya  42       Caricaceae         Caricacea   \n",
              "21  Passiflora  Passionfruit  70   Passifloraceae      Malpighiales   \n",
              "22       Pyrus          Pear   4         Rosaceae           Rosales   \n",
              "23   Diospyros     Persimmon  52        Ebenaceae           Rosales   \n",
              "24      Ananas     Pineapple  10     Bromeliaceae            Poales   \n",
              "25      Prunus          Plum  71         Rosaceae           Rosales   \n",
              "26       Rubus     Raspberry  23         Rosaceae           Rosales   \n",
              "27    Fragaria    Strawberry   3         Rosaceae           Rosales   \n",
              "28     Solanum        Tomato   5       Solanaceae         Solanales   \n",
              "29    Spondias          Umbu  73    Anacardiaceae                 0   \n",
              "30   Citrullus    Watermelon  25    Cucurbitaceae      Cucurbitales   \n",
              "\n",
              "    nutritions.carbohydrates  nutritions.protein  nutritions.fat  \\\n",
              "0                      11.40                0.30            0.40   \n",
              "1                       3.90                0.50            0.10   \n",
              "2                      22.00                1.00            0.20   \n",
              "3                       9.00                1.30            0.40   \n",
              "4                       5.50                0.00            0.40   \n",
              "5                      12.00                1.00            0.30   \n",
              "6                      27.10                1.50            5.30   \n",
              "7                      19.00                0.80            0.30   \n",
              "8                      10.00                0.90            0.60   \n",
              "9                      18.10                0.72            0.16   \n",
              "10                      3.10                0.40            0.10   \n",
              "11                     14.00                2.60            1.00   \n",
              "12                     15.00                1.10            0.50   \n",
              "13                      9.00                1.10            0.30   \n",
              "14                      8.40                0.30            0.10   \n",
              "15                     11.30                0.75            0.34   \n",
              "16                     17.00                0.80            0.44   \n",
              "17                     15.00                0.82            0.38   \n",
              "18                      8.00                0.00            0.00   \n",
              "19                      8.30                1.00            0.20   \n",
              "20                     11.00                0.00            0.40   \n",
              "21                     22.40                2.20            0.70   \n",
              "22                     15.00                0.40            0.10   \n",
              "23                     18.00                0.00            0.00   \n",
              "24                     13.12                0.54            0.12   \n",
              "25                     11.40                0.70            0.28   \n",
              "26                     12.00                1.20            0.70   \n",
              "27                      5.50                0.80            0.40   \n",
              "28                      3.90                0.90            0.20   \n",
              "29                      0.00                0.00            0.00   \n",
              "30                      8.00                0.60            0.20   \n",
              "\n",
              "    nutritions.calories  nutritions.sugar  \n",
              "0                    52             10.30  \n",
              "1                    15              3.20  \n",
              "2                    96             17.20  \n",
              "3                    40              4.50  \n",
              "4                    29              5.40  \n",
              "5                    50              8.00  \n",
              "6                   147              6.75  \n",
              "7                    74             16.00  \n",
              "8                    44              0.00  \n",
              "9                    69             15.48  \n",
              "10                   21              6.40  \n",
              "11                   68              9.00  \n",
              "12                   61              9.00  \n",
              "13                   29              2.50  \n",
              "14                   25              1.70  \n",
              "15                   50              5.74  \n",
              "16                   66             15.00  \n",
              "17                   60             13.70  \n",
              "18                   34              8.00  \n",
              "19                   43              8.20  \n",
              "20                   43              1.00  \n",
              "21                   97             11.20  \n",
              "22                   57             10.00  \n",
              "23                   81             18.00  \n",
              "24                   50              9.85  \n",
              "25                   46              9.92  \n",
              "26                   53              4.40  \n",
              "27                   29              5.40  \n",
              "28                   74              2.60  \n",
              "29                    0              0.00  \n",
              "30                   30              6.00  "
            ],
            "text/html": [
              "\n",
              "  <div id=\"df-5fd4c21a-b443-4df0-ba12-7751306c0ccf\">\n",
              "    <div class=\"colab-df-container\">\n",
              "      <div>\n",
              "<style scoped>\n",
              "    .dataframe tbody tr th:only-of-type {\n",
              "        vertical-align: middle;\n",
              "    }\n",
              "\n",
              "    .dataframe tbody tr th {\n",
              "        vertical-align: top;\n",
              "    }\n",
              "\n",
              "    .dataframe thead th {\n",
              "        text-align: right;\n",
              "    }\n",
              "</style>\n",
              "<table border=\"1\" class=\"dataframe\">\n",
              "  <thead>\n",
              "    <tr style=\"text-align: right;\">\n",
              "      <th></th>\n",
              "      <th>genus</th>\n",
              "      <th>name</th>\n",
              "      <th>id</th>\n",
              "      <th>family</th>\n",
              "      <th>order</th>\n",
              "      <th>nutritions.carbohydrates</th>\n",
              "      <th>nutritions.protein</th>\n",
              "      <th>nutritions.fat</th>\n",
              "      <th>nutritions.calories</th>\n",
              "      <th>nutritions.sugar</th>\n",
              "    </tr>\n",
              "  </thead>\n",
              "  <tbody>\n",
              "    <tr>\n",
              "      <th>0</th>\n",
              "      <td>Malus</td>\n",
              "      <td>Apple</td>\n",
              "      <td>6</td>\n",
              "      <td>Rosaceae</td>\n",
              "      <td>Rosales</td>\n",
              "      <td>11.40</td>\n",
              "      <td>0.30</td>\n",
              "      <td>0.40</td>\n",
              "      <td>52</td>\n",
              "      <td>10.30</td>\n",
              "    </tr>\n",
              "    <tr>\n",
              "      <th>1</th>\n",
              "      <td>Prunus</td>\n",
              "      <td>Apricot</td>\n",
              "      <td>35</td>\n",
              "      <td>Rosaceae</td>\n",
              "      <td>Rosales</td>\n",
              "      <td>3.90</td>\n",
              "      <td>0.50</td>\n",
              "      <td>0.10</td>\n",
              "      <td>15</td>\n",
              "      <td>3.20</td>\n",
              "    </tr>\n",
              "    <tr>\n",
              "      <th>2</th>\n",
              "      <td>Musa</td>\n",
              "      <td>Banana</td>\n",
              "      <td>1</td>\n",
              "      <td>Musaceae</td>\n",
              "      <td>Zingiberales</td>\n",
              "      <td>22.00</td>\n",
              "      <td>1.00</td>\n",
              "      <td>0.20</td>\n",
              "      <td>96</td>\n",
              "      <td>17.20</td>\n",
              "    </tr>\n",
              "    <tr>\n",
              "      <th>3</th>\n",
              "      <td>Rubus</td>\n",
              "      <td>Blackberry</td>\n",
              "      <td>64</td>\n",
              "      <td>Rosaceae</td>\n",
              "      <td>Rosales</td>\n",
              "      <td>9.00</td>\n",
              "      <td>1.30</td>\n",
              "      <td>0.40</td>\n",
              "      <td>40</td>\n",
              "      <td>4.50</td>\n",
              "    </tr>\n",
              "    <tr>\n",
              "      <th>4</th>\n",
              "      <td>Fragaria</td>\n",
              "      <td>Blueberry</td>\n",
              "      <td>33</td>\n",
              "      <td>Rosaceae</td>\n",
              "      <td>Rosales</td>\n",
              "      <td>5.50</td>\n",
              "      <td>0.00</td>\n",
              "      <td>0.40</td>\n",
              "      <td>29</td>\n",
              "      <td>5.40</td>\n",
              "    </tr>\n",
              "    <tr>\n",
              "      <th>5</th>\n",
              "      <td>Prunus</td>\n",
              "      <td>Cherry</td>\n",
              "      <td>9</td>\n",
              "      <td>Rosaceae</td>\n",
              "      <td>None</td>\n",
              "      <td>12.00</td>\n",
              "      <td>1.00</td>\n",
              "      <td>0.30</td>\n",
              "      <td>50</td>\n",
              "      <td>8.00</td>\n",
              "    </tr>\n",
              "    <tr>\n",
              "      <th>6</th>\n",
              "      <td>Durio</td>\n",
              "      <td>Durian</td>\n",
              "      <td>60</td>\n",
              "      <td>Malvaceae</td>\n",
              "      <td>Malvales</td>\n",
              "      <td>27.10</td>\n",
              "      <td>1.50</td>\n",
              "      <td>5.30</td>\n",
              "      <td>147</td>\n",
              "      <td>6.75</td>\n",
              "    </tr>\n",
              "    <tr>\n",
              "      <th>7</th>\n",
              "      <td>Ficus</td>\n",
              "      <td>Fig</td>\n",
              "      <td>68</td>\n",
              "      <td>Moraceae</td>\n",
              "      <td>Rosales</td>\n",
              "      <td>19.00</td>\n",
              "      <td>0.80</td>\n",
              "      <td>0.30</td>\n",
              "      <td>74</td>\n",
              "      <td>16.00</td>\n",
              "    </tr>\n",
              "    <tr>\n",
              "      <th>8</th>\n",
              "      <td>Ribes</td>\n",
              "      <td>Gooseberry</td>\n",
              "      <td>69</td>\n",
              "      <td>Grossulariaceae</td>\n",
              "      <td>Saxifragales</td>\n",
              "      <td>10.00</td>\n",
              "      <td>0.90</td>\n",
              "      <td>0.60</td>\n",
              "      <td>44</td>\n",
              "      <td>0.00</td>\n",
              "    </tr>\n",
              "    <tr>\n",
              "      <th>9</th>\n",
              "      <td>Vitis</td>\n",
              "      <td>Grapes</td>\n",
              "      <td>47</td>\n",
              "      <td>Vitaceae</td>\n",
              "      <td>Vitales</td>\n",
              "      <td>18.10</td>\n",
              "      <td>0.72</td>\n",
              "      <td>0.16</td>\n",
              "      <td>69</td>\n",
              "      <td>15.48</td>\n",
              "    </tr>\n",
              "    <tr>\n",
              "      <th>10</th>\n",
              "      <td>Malus</td>\n",
              "      <td>GreenApple</td>\n",
              "      <td>72</td>\n",
              "      <td>Rosaceae</td>\n",
              "      <td>Rosales</td>\n",
              "      <td>3.10</td>\n",
              "      <td>0.40</td>\n",
              "      <td>0.10</td>\n",
              "      <td>21</td>\n",
              "      <td>6.40</td>\n",
              "    </tr>\n",
              "    <tr>\n",
              "      <th>11</th>\n",
              "      <td>Psidium</td>\n",
              "      <td>Guava</td>\n",
              "      <td>37</td>\n",
              "      <td>Myrtaceae</td>\n",
              "      <td>Myrtales</td>\n",
              "      <td>14.00</td>\n",
              "      <td>2.60</td>\n",
              "      <td>1.00</td>\n",
              "      <td>68</td>\n",
              "      <td>9.00</td>\n",
              "    </tr>\n",
              "    <tr>\n",
              "      <th>12</th>\n",
              "      <td>Apteryx</td>\n",
              "      <td>Kiwi</td>\n",
              "      <td>66</td>\n",
              "      <td>Actinidiaceae</td>\n",
              "      <td>Struthioniformes</td>\n",
              "      <td>15.00</td>\n",
              "      <td>1.10</td>\n",
              "      <td>0.50</td>\n",
              "      <td>61</td>\n",
              "      <td>9.00</td>\n",
              "    </tr>\n",
              "    <tr>\n",
              "      <th>13</th>\n",
              "      <td>Citrus</td>\n",
              "      <td>Lemon</td>\n",
              "      <td>26</td>\n",
              "      <td>Rutaceae</td>\n",
              "      <td>Sapindales</td>\n",
              "      <td>9.00</td>\n",
              "      <td>1.10</td>\n",
              "      <td>0.30</td>\n",
              "      <td>29</td>\n",
              "      <td>2.50</td>\n",
              "    </tr>\n",
              "    <tr>\n",
              "      <th>14</th>\n",
              "      <td>Citrus</td>\n",
              "      <td>Lime</td>\n",
              "      <td>44</td>\n",
              "      <td>Rutaceae</td>\n",
              "      <td>Sapindales</td>\n",
              "      <td>8.40</td>\n",
              "      <td>0.30</td>\n",
              "      <td>0.10</td>\n",
              "      <td>25</td>\n",
              "      <td>1.70</td>\n",
              "    </tr>\n",
              "    <tr>\n",
              "      <th>15</th>\n",
              "      <td>Vaccinium</td>\n",
              "      <td>Lingonberry</td>\n",
              "      <td>65</td>\n",
              "      <td>Ericaceae</td>\n",
              "      <td>Ericales</td>\n",
              "      <td>11.30</td>\n",
              "      <td>0.75</td>\n",
              "      <td>0.34</td>\n",
              "      <td>50</td>\n",
              "      <td>5.74</td>\n",
              "    </tr>\n",
              "    <tr>\n",
              "      <th>16</th>\n",
              "      <td>Litchi</td>\n",
              "      <td>Lychee</td>\n",
              "      <td>67</td>\n",
              "      <td>Sapindaceae</td>\n",
              "      <td>Sapindales</td>\n",
              "      <td>17.00</td>\n",
              "      <td>0.80</td>\n",
              "      <td>0.44</td>\n",
              "      <td>66</td>\n",
              "      <td>15.00</td>\n",
              "    </tr>\n",
              "    <tr>\n",
              "      <th>17</th>\n",
              "      <td>Mangifera</td>\n",
              "      <td>Mango</td>\n",
              "      <td>27</td>\n",
              "      <td>Anacardiaceae</td>\n",
              "      <td>Sapindales</td>\n",
              "      <td>15.00</td>\n",
              "      <td>0.82</td>\n",
              "      <td>0.38</td>\n",
              "      <td>60</td>\n",
              "      <td>13.70</td>\n",
              "    </tr>\n",
              "    <tr>\n",
              "      <th>18</th>\n",
              "      <td>Cucumis</td>\n",
              "      <td>Melon</td>\n",
              "      <td>41</td>\n",
              "      <td>Cucurbitaceae</td>\n",
              "      <td>Cucurbitaceae</td>\n",
              "      <td>8.00</td>\n",
              "      <td>0.00</td>\n",
              "      <td>0.00</td>\n",
              "      <td>34</td>\n",
              "      <td>8.00</td>\n",
              "    </tr>\n",
              "    <tr>\n",
              "      <th>19</th>\n",
              "      <td>Citrus</td>\n",
              "      <td>Orange</td>\n",
              "      <td>2</td>\n",
              "      <td>Rutaceae</td>\n",
              "      <td>Sapindales</td>\n",
              "      <td>8.30</td>\n",
              "      <td>1.00</td>\n",
              "      <td>0.20</td>\n",
              "      <td>43</td>\n",
              "      <td>8.20</td>\n",
              "    </tr>\n",
              "    <tr>\n",
              "      <th>20</th>\n",
              "      <td>Carica</td>\n",
              "      <td>Papaya</td>\n",
              "      <td>42</td>\n",
              "      <td>Caricaceae</td>\n",
              "      <td>Caricacea</td>\n",
              "      <td>11.00</td>\n",
              "      <td>0.00</td>\n",
              "      <td>0.40</td>\n",
              "      <td>43</td>\n",
              "      <td>1.00</td>\n",
              "    </tr>\n",
              "    <tr>\n",
              "      <th>21</th>\n",
              "      <td>Passiflora</td>\n",
              "      <td>Passionfruit</td>\n",
              "      <td>70</td>\n",
              "      <td>Passifloraceae</td>\n",
              "      <td>Malpighiales</td>\n",
              "      <td>22.40</td>\n",
              "      <td>2.20</td>\n",
              "      <td>0.70</td>\n",
              "      <td>97</td>\n",
              "      <td>11.20</td>\n",
              "    </tr>\n",
              "    <tr>\n",
              "      <th>22</th>\n",
              "      <td>Pyrus</td>\n",
              "      <td>Pear</td>\n",
              "      <td>4</td>\n",
              "      <td>Rosaceae</td>\n",
              "      <td>Rosales</td>\n",
              "      <td>15.00</td>\n",
              "      <td>0.40</td>\n",
              "      <td>0.10</td>\n",
              "      <td>57</td>\n",
              "      <td>10.00</td>\n",
              "    </tr>\n",
              "    <tr>\n",
              "      <th>23</th>\n",
              "      <td>Diospyros</td>\n",
              "      <td>Persimmon</td>\n",
              "      <td>52</td>\n",
              "      <td>Ebenaceae</td>\n",
              "      <td>Rosales</td>\n",
              "      <td>18.00</td>\n",
              "      <td>0.00</td>\n",
              "      <td>0.00</td>\n",
              "      <td>81</td>\n",
              "      <td>18.00</td>\n",
              "    </tr>\n",
              "    <tr>\n",
              "      <th>24</th>\n",
              "      <td>Ananas</td>\n",
              "      <td>Pineapple</td>\n",
              "      <td>10</td>\n",
              "      <td>Bromeliaceae</td>\n",
              "      <td>Poales</td>\n",
              "      <td>13.12</td>\n",
              "      <td>0.54</td>\n",
              "      <td>0.12</td>\n",
              "      <td>50</td>\n",
              "      <td>9.85</td>\n",
              "    </tr>\n",
              "    <tr>\n",
              "      <th>25</th>\n",
              "      <td>Prunus</td>\n",
              "      <td>Plum</td>\n",
              "      <td>71</td>\n",
              "      <td>Rosaceae</td>\n",
              "      <td>Rosales</td>\n",
              "      <td>11.40</td>\n",
              "      <td>0.70</td>\n",
              "      <td>0.28</td>\n",
              "      <td>46</td>\n",
              "      <td>9.92</td>\n",
              "    </tr>\n",
              "    <tr>\n",
              "      <th>26</th>\n",
              "      <td>Rubus</td>\n",
              "      <td>Raspberry</td>\n",
              "      <td>23</td>\n",
              "      <td>Rosaceae</td>\n",
              "      <td>Rosales</td>\n",
              "      <td>12.00</td>\n",
              "      <td>1.20</td>\n",
              "      <td>0.70</td>\n",
              "      <td>53</td>\n",
              "      <td>4.40</td>\n",
              "    </tr>\n",
              "    <tr>\n",
              "      <th>27</th>\n",
              "      <td>Fragaria</td>\n",
              "      <td>Strawberry</td>\n",
              "      <td>3</td>\n",
              "      <td>Rosaceae</td>\n",
              "      <td>Rosales</td>\n",
              "      <td>5.50</td>\n",
              "      <td>0.80</td>\n",
              "      <td>0.40</td>\n",
              "      <td>29</td>\n",
              "      <td>5.40</td>\n",
              "    </tr>\n",
              "    <tr>\n",
              "      <th>28</th>\n",
              "      <td>Solanum</td>\n",
              "      <td>Tomato</td>\n",
              "      <td>5</td>\n",
              "      <td>Solanaceae</td>\n",
              "      <td>Solanales</td>\n",
              "      <td>3.90</td>\n",
              "      <td>0.90</td>\n",
              "      <td>0.20</td>\n",
              "      <td>74</td>\n",
              "      <td>2.60</td>\n",
              "    </tr>\n",
              "    <tr>\n",
              "      <th>29</th>\n",
              "      <td>Spondias</td>\n",
              "      <td>Umbu</td>\n",
              "      <td>73</td>\n",
              "      <td>Anacardiaceae</td>\n",
              "      <td>0</td>\n",
              "      <td>0.00</td>\n",
              "      <td>0.00</td>\n",
              "      <td>0.00</td>\n",
              "      <td>0</td>\n",
              "      <td>0.00</td>\n",
              "    </tr>\n",
              "    <tr>\n",
              "      <th>30</th>\n",
              "      <td>Citrullus</td>\n",
              "      <td>Watermelon</td>\n",
              "      <td>25</td>\n",
              "      <td>Cucurbitaceae</td>\n",
              "      <td>Cucurbitales</td>\n",
              "      <td>8.00</td>\n",
              "      <td>0.60</td>\n",
              "      <td>0.20</td>\n",
              "      <td>30</td>\n",
              "      <td>6.00</td>\n",
              "    </tr>\n",
              "  </tbody>\n",
              "</table>\n",
              "</div>\n",
              "      <button class=\"colab-df-convert\" onclick=\"convertToInteractive('df-5fd4c21a-b443-4df0-ba12-7751306c0ccf')\"\n",
              "              title=\"Convert this dataframe to an interactive table.\"\n",
              "              style=\"display:none;\">\n",
              "        \n",
              "  <svg xmlns=\"http://www.w3.org/2000/svg\" height=\"24px\"viewBox=\"0 0 24 24\"\n",
              "       width=\"24px\">\n",
              "    <path d=\"M0 0h24v24H0V0z\" fill=\"none\"/>\n",
              "    <path d=\"M18.56 5.44l.94 2.06.94-2.06 2.06-.94-2.06-.94-.94-2.06-.94 2.06-2.06.94zm-11 1L8.5 8.5l.94-2.06 2.06-.94-2.06-.94L8.5 2.5l-.94 2.06-2.06.94zm10 10l.94 2.06.94-2.06 2.06-.94-2.06-.94-.94-2.06-.94 2.06-2.06.94z\"/><path d=\"M17.41 7.96l-1.37-1.37c-.4-.4-.92-.59-1.43-.59-.52 0-1.04.2-1.43.59L10.3 9.45l-7.72 7.72c-.78.78-.78 2.05 0 2.83L4 21.41c.39.39.9.59 1.41.59.51 0 1.02-.2 1.41-.59l7.78-7.78 2.81-2.81c.8-.78.8-2.07 0-2.86zM5.41 20L4 18.59l7.72-7.72 1.47 1.35L5.41 20z\"/>\n",
              "  </svg>\n",
              "      </button>\n",
              "      \n",
              "  <style>\n",
              "    .colab-df-container {\n",
              "      display:flex;\n",
              "      flex-wrap:wrap;\n",
              "      gap: 12px;\n",
              "    }\n",
              "\n",
              "    .colab-df-convert {\n",
              "      background-color: #E8F0FE;\n",
              "      border: none;\n",
              "      border-radius: 50%;\n",
              "      cursor: pointer;\n",
              "      display: none;\n",
              "      fill: #1967D2;\n",
              "      height: 32px;\n",
              "      padding: 0 0 0 0;\n",
              "      width: 32px;\n",
              "    }\n",
              "\n",
              "    .colab-df-convert:hover {\n",
              "      background-color: #E2EBFA;\n",
              "      box-shadow: 0px 1px 2px rgba(60, 64, 67, 0.3), 0px 1px 3px 1px rgba(60, 64, 67, 0.15);\n",
              "      fill: #174EA6;\n",
              "    }\n",
              "\n",
              "    [theme=dark] .colab-df-convert {\n",
              "      background-color: #3B4455;\n",
              "      fill: #D2E3FC;\n",
              "    }\n",
              "\n",
              "    [theme=dark] .colab-df-convert:hover {\n",
              "      background-color: #434B5C;\n",
              "      box-shadow: 0px 1px 3px 1px rgba(0, 0, 0, 0.15);\n",
              "      filter: drop-shadow(0px 1px 2px rgba(0, 0, 0, 0.3));\n",
              "      fill: #FFFFFF;\n",
              "    }\n",
              "  </style>\n",
              "\n",
              "      <script>\n",
              "        const buttonEl =\n",
              "          document.querySelector('#df-5fd4c21a-b443-4df0-ba12-7751306c0ccf button.colab-df-convert');\n",
              "        buttonEl.style.display =\n",
              "          google.colab.kernel.accessAllowed ? 'block' : 'none';\n",
              "\n",
              "        async function convertToInteractive(key) {\n",
              "          const element = document.querySelector('#df-5fd4c21a-b443-4df0-ba12-7751306c0ccf');\n",
              "          const dataTable =\n",
              "            await google.colab.kernel.invokeFunction('convertToInteractive',\n",
              "                                                     [key], {});\n",
              "          if (!dataTable) return;\n",
              "\n",
              "          const docLinkHtml = 'Like what you see? Visit the ' +\n",
              "            '<a target=\"_blank\" href=https://colab.research.google.com/notebooks/data_table.ipynb>data table notebook</a>'\n",
              "            + ' to learn more about interactive tables.';\n",
              "          element.innerHTML = '';\n",
              "          dataTable['output_type'] = 'display_data';\n",
              "          await google.colab.output.renderOutput(dataTable, element);\n",
              "          const docLink = document.createElement('div');\n",
              "          docLink.innerHTML = docLinkHtml;\n",
              "          element.appendChild(docLink);\n",
              "        }\n",
              "      </script>\n",
              "    </div>\n",
              "  </div>\n",
              "  "
            ]
          },
          "metadata": {},
          "execution_count": 51
        }
      ]
    },
    {
      "cell_type": "code",
      "source": [
        "cherry = df2.loc[df2[\"name\"] == 'Cherry']\n",
        "(cherry.iloc[0]['family']) , (cherry.iloc[0]['genus'])"
      ],
      "metadata": {
        "colab": {
          "base_uri": "https://localhost:8080/"
        },
        "id": "HntYcOLwgT0e",
        "outputId": "5778f185-d3d8-48e5-f6f7-3860450e3424"
      },
      "execution_count": 52,
      "outputs": [
        {
          "output_type": "execute_result",
          "data": {
            "text/plain": [
              "('Rosaceae', 'Prunus')"
            ]
          },
          "metadata": {},
          "execution_count": 52
        }
      ]
    },
    {
      "cell_type": "code",
      "source": [
        "cal_banana = df2.loc[df2[\"name\"] == 'Banana']\n",
        "cal_banana.iloc[0]['nutritions.calories']"
      ],
      "metadata": {
        "colab": {
          "base_uri": "https://localhost:8080/"
        },
        "id": "hJG42e3QgW4t",
        "outputId": "fcffdc85-66ed-4316-ad90-270de5518b42"
      },
      "execution_count": 53,
      "outputs": [
        {
          "output_type": "execute_result",
          "data": {
            "text/plain": [
              "96"
            ]
          },
          "metadata": {},
          "execution_count": 53
        }
      ]
    },
    {
      "cell_type": "markdown",
      "source": [
        "Examen"
      ],
      "metadata": {
        "id": "DAgdqS1kgg49"
      }
    },
    {
      "cell_type": "code",
      "source": [
        "a=np.array([0,1,0,1,0])\n",
        "\n",
        "b=np.array([1,0,1,0,1])\n",
        "\n",
        "a*b\n",
        "\n"
      ],
      "metadata": {
        "colab": {
          "base_uri": "https://localhost:8080/"
        },
        "id": "lDesY91AgeeM",
        "outputId": "4bf979db-2ca0-414e-9320-5246379bd322"
      },
      "execution_count": 59,
      "outputs": [
        {
          "output_type": "execute_result",
          "data": {
            "text/plain": [
              "array([0, 0, 0, 0, 0])"
            ]
          },
          "metadata": {},
          "execution_count": 59
        }
      ]
    },
    {
      "cell_type": "code",
      "source": [
        "a=np.array([0,1])\n",
        "\n",
        "b=np.array([1,0])\n",
        "\n",
        "np.dot(a,b)"
      ],
      "metadata": {
        "colab": {
          "base_uri": "https://localhost:8080/"
        },
        "id": "0tIwf4mng4H6",
        "outputId": "d8e6b087-c0d2-49c5-b1f3-cc987c6d7638"
      },
      "execution_count": 60,
      "outputs": [
        {
          "output_type": "execute_result",
          "data": {
            "text/plain": [
              "0"
            ]
          },
          "metadata": {},
          "execution_count": 60
        }
      ]
    },
    {
      "cell_type": "code",
      "source": [
        "a=np.array([1,1,1,1,1])\n",
        "\n",
        "a+10"
      ],
      "metadata": {
        "colab": {
          "base_uri": "https://localhost:8080/"
        },
        "id": "zOboJ2ojg8Wm",
        "outputId": "21d7f464-4b3f-4c8a-bcec-2d848caef5f2"
      },
      "execution_count": 61,
      "outputs": [
        {
          "output_type": "execute_result",
          "data": {
            "text/plain": [
              "array([11, 11, 11, 11, 11])"
            ]
          },
          "metadata": {},
          "execution_count": 61
        }
      ]
    },
    {
      "cell_type": "code",
      "source": [
        "print(type(True))"
      ],
      "metadata": {
        "colab": {
          "base_uri": "https://localhost:8080/"
        },
        "id": "ZfshneQJh8XR",
        "outputId": "99d767be-5a91-4cb9-f1e6-56c4edbb8bac"
      },
      "execution_count": 62,
      "outputs": [
        {
          "output_type": "stream",
          "name": "stdout",
          "text": [
            "<class 'bool'>\n"
          ]
        }
      ]
    },
    {
      "cell_type": "code",
      "source": [
        "int(3.2)"
      ],
      "metadata": {
        "colab": {
          "base_uri": "https://localhost:8080/"
        },
        "id": "okx1mgfxiBS1",
        "outputId": "e5bbc020-e16a-46bd-d3a2-1a78024db88d"
      },
      "execution_count": 63,
      "outputs": [
        {
          "output_type": "execute_result",
          "data": {
            "text/plain": [
              "3"
            ]
          },
          "metadata": {},
          "execution_count": 63
        }
      ]
    },
    {
      "cell_type": "code",
      "source": [
        "A='1234567'\n",
        "A[1::2]"
      ],
      "metadata": {
        "colab": {
          "base_uri": "https://localhost:8080/",
          "height": 35
        },
        "id": "voMQqwrTiFKC",
        "outputId": "6ebf972d-7db3-4bac-ac00-be47f967210a"
      },
      "execution_count": 64,
      "outputs": [
        {
          "output_type": "execute_result",
          "data": {
            "text/plain": [
              "'246'"
            ],
            "application/vnd.google.colaboratory.intrinsic+json": {
              "type": "string"
            }
          },
          "metadata": {},
          "execution_count": 64
        }
      ]
    },
    {
      "cell_type": "code",
      "source": [
        "Name=\"Michael Jackson\"\n",
        "Name.find('el')"
      ],
      "metadata": {
        "colab": {
          "base_uri": "https://localhost:8080/"
        },
        "id": "jGNd3V_5iMIX",
        "outputId": "8112c4f7-cbba-4fbe-9d00-8e2b415e1801"
      },
      "execution_count": 66,
      "outputs": [
        {
          "output_type": "execute_result",
          "data": {
            "text/plain": [
              "5"
            ]
          },
          "metadata": {},
          "execution_count": 66
        }
      ]
    },
    {
      "cell_type": "code",
      "source": [
        "A=((11,12),[21,22])\n",
        "A[1]\n",
        "A[0][1]"
      ],
      "metadata": {
        "colab": {
          "base_uri": "https://localhost:8080/"
        },
        "id": "sraePY4aibhA",
        "outputId": "180e714a-03e7-4043-95a8-65151006dd44"
      },
      "execution_count": 68,
      "outputs": [
        {
          "output_type": "execute_result",
          "data": {
            "text/plain": [
              "12"
            ]
          },
          "metadata": {},
          "execution_count": 68
        }
      ]
    },
    {
      "cell_type": "code",
      "source": [
        "'1,2,3,4'.split(',')"
      ],
      "metadata": {
        "colab": {
          "base_uri": "https://localhost:8080/"
        },
        "id": "XwLq0_W9ioHd",
        "outputId": "184a99d8-d45e-4a09-da9c-8958620ac39f"
      },
      "execution_count": 69,
      "outputs": [
        {
          "output_type": "execute_result",
          "data": {
            "text/plain": [
              "['1', '2', '3', '4']"
            ]
          },
          "metadata": {},
          "execution_count": 69
        }
      ]
    },
    {
      "cell_type": "code",
      "source": [
        "x=\"Go\"\n",
        "\n",
        "if(x!=\"Go\"):\n",
        "\n",
        "  print('Stop')\n",
        "\n",
        "else:\n",
        "\n",
        "  print('Go ')\n",
        "\n",
        "print('Mike') "
      ],
      "metadata": {
        "colab": {
          "base_uri": "https://localhost:8080/"
        },
        "id": "VE2agJW0jDST",
        "outputId": "b0b28f61-0ff9-47ce-86a8-b674ed05b17c"
      },
      "execution_count": 71,
      "outputs": [
        {
          "output_type": "stream",
          "name": "stdout",
          "text": [
            "Go \n",
            "Mike\n"
          ]
        }
      ]
    },
    {
      "cell_type": "code",
      "source": [
        "class Points(object):\n",
        "\n",
        "  def __init__(self,x,y):\n",
        "\n",
        "    self.x=x\n",
        "\n",
        "    elf.y=y\n",
        "\n",
        "  def print_point(self):\n",
        "\n",
        "    rint('x=',self.x,'y=',self.y)"
      ],
      "metadata": {
        "id": "EFr5GK7BjPQ9"
      },
      "execution_count": 81,
      "outputs": []
    },
    {
      "cell_type": "code",
      "source": [],
      "metadata": {
        "id": "7CXjDC4_mf7P"
      },
      "execution_count": null,
      "outputs": []
    }
  ]
}